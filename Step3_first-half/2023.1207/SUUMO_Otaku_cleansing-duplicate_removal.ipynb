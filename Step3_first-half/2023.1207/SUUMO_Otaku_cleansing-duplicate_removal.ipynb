{
 "cells": [
  {
   "cell_type": "code",
   "execution_count": 1,
   "metadata": {},
   "outputs": [
    {
     "name": "stderr",
     "output_type": "stream",
     "text": [
      "  0%|          | 0/316 [00:00<?, ?it/s]"
     ]
    },
    {
     "name": "stdout",
     "output_type": "stream",
     "text": [
      "d_listの大きさ: 0\n",
      "https://suumo.jp/chintai/tokyo/sc_ota/mansion/?page=1\n"
     ]
    },
    {
     "name": "stderr",
     "output_type": "stream",
     "text": [
      "  0%|          | 1/316 [00:02<12:06,  2.30s/it]"
     ]
    },
    {
     "name": "stdout",
     "output_type": "stream",
     "text": [
      "d_listの大きさ: 80\n",
      "https://suumo.jp/chintai/tokyo/sc_ota/mansion/?page=2\n"
     ]
    },
    {
     "name": "stderr",
     "output_type": "stream",
     "text": [
      "  1%|          | 2/316 [00:04<11:57,  2.29s/it]"
     ]
    },
    {
     "name": "stdout",
     "output_type": "stream",
     "text": [
      "d_listの大きさ: 130\n",
      "https://suumo.jp/chintai/tokyo/sc_ota/mansion/?page=3\n"
     ]
    },
    {
     "name": "stderr",
     "output_type": "stream",
     "text": [
      "  1%|          | 3/316 [00:06<12:05,  2.32s/it]"
     ]
    },
    {
     "name": "stdout",
     "output_type": "stream",
     "text": [
      "d_listの大きさ: 198\n",
      "https://suumo.jp/chintai/tokyo/sc_ota/mansion/?page=4\n"
     ]
    },
    {
     "name": "stderr",
     "output_type": "stream",
     "text": [
      "  1%|▏         | 4/316 [00:09<12:12,  2.35s/it]"
     ]
    },
    {
     "name": "stdout",
     "output_type": "stream",
     "text": [
      "d_listの大きさ: 251\n",
      "https://suumo.jp/chintai/tokyo/sc_ota/mansion/?page=5\n"
     ]
    },
    {
     "name": "stderr",
     "output_type": "stream",
     "text": [
      "  2%|▏         | 5/316 [00:11<11:55,  2.30s/it]"
     ]
    },
    {
     "name": "stdout",
     "output_type": "stream",
     "text": [
      "d_listの大きさ: 326\n",
      "https://suumo.jp/chintai/tokyo/sc_ota/mansion/?page=6\n"
     ]
    },
    {
     "name": "stderr",
     "output_type": "stream",
     "text": [
      "  2%|▏         | 6/316 [00:13<11:24,  2.21s/it]"
     ]
    },
    {
     "name": "stdout",
     "output_type": "stream",
     "text": [
      "d_listの大きさ: 391\n",
      "https://suumo.jp/chintai/tokyo/sc_ota/mansion/?page=7\n"
     ]
    },
    {
     "name": "stderr",
     "output_type": "stream",
     "text": [
      "  2%|▏         | 7/316 [00:15<11:16,  2.19s/it]"
     ]
    },
    {
     "name": "stdout",
     "output_type": "stream",
     "text": [
      "d_listの大きさ: 462\n",
      "https://suumo.jp/chintai/tokyo/sc_ota/mansion/?page=8\n"
     ]
    },
    {
     "name": "stderr",
     "output_type": "stream",
     "text": [
      "  3%|▎         | 8/316 [00:17<11:05,  2.16s/it]"
     ]
    },
    {
     "name": "stdout",
     "output_type": "stream",
     "text": [
      "d_listの大きさ: 507\n",
      "https://suumo.jp/chintai/tokyo/sc_ota/mansion/?page=9\n"
     ]
    },
    {
     "name": "stderr",
     "output_type": "stream",
     "text": [
      "  3%|▎         | 9/316 [00:19<11:04,  2.17s/it]"
     ]
    },
    {
     "name": "stdout",
     "output_type": "stream",
     "text": [
      "d_listの大きさ: 557\n",
      "https://suumo.jp/chintai/tokyo/sc_ota/mansion/?page=10\n"
     ]
    },
    {
     "name": "stderr",
     "output_type": "stream",
     "text": [
      "  3%|▎         | 10/316 [00:22<12:09,  2.39s/it]"
     ]
    },
    {
     "name": "stdout",
     "output_type": "stream",
     "text": [
      "d_listの大きさ: 631\n",
      "https://suumo.jp/chintai/tokyo/sc_ota/mansion/?page=11\n"
     ]
    },
    {
     "name": "stderr",
     "output_type": "stream",
     "text": [
      "  3%|▎         | 11/316 [00:25<11:54,  2.34s/it]"
     ]
    },
    {
     "name": "stdout",
     "output_type": "stream",
     "text": [
      "d_listの大きさ: 674\n",
      "https://suumo.jp/chintai/tokyo/sc_ota/mansion/?page=12\n"
     ]
    },
    {
     "name": "stderr",
     "output_type": "stream",
     "text": [
      "  4%|▍         | 12/316 [00:27<11:34,  2.28s/it]"
     ]
    },
    {
     "name": "stdout",
     "output_type": "stream",
     "text": [
      "d_listの大きさ: 729\n",
      "https://suumo.jp/chintai/tokyo/sc_ota/mansion/?page=13\n"
     ]
    },
    {
     "name": "stderr",
     "output_type": "stream",
     "text": [
      "  4%|▍         | 13/316 [00:29<11:44,  2.33s/it]"
     ]
    },
    {
     "name": "stdout",
     "output_type": "stream",
     "text": [
      "d_listの大きさ: 805\n",
      "https://suumo.jp/chintai/tokyo/sc_ota/mansion/?page=14\n"
     ]
    },
    {
     "name": "stderr",
     "output_type": "stream",
     "text": [
      "  4%|▍         | 14/316 [00:32<11:40,  2.32s/it]"
     ]
    },
    {
     "name": "stdout",
     "output_type": "stream",
     "text": [
      "d_listの大きさ: 874\n",
      "https://suumo.jp/chintai/tokyo/sc_ota/mansion/?page=15\n"
     ]
    },
    {
     "name": "stderr",
     "output_type": "stream",
     "text": [
      "  5%|▍         | 15/316 [00:34<11:18,  2.26s/it]"
     ]
    },
    {
     "name": "stdout",
     "output_type": "stream",
     "text": [
      "d_listの大きさ: 924\n",
      "https://suumo.jp/chintai/tokyo/sc_ota/mansion/?page=16\n"
     ]
    },
    {
     "name": "stderr",
     "output_type": "stream",
     "text": [
      "  5%|▌         | 16/316 [00:36<11:28,  2.30s/it]"
     ]
    },
    {
     "name": "stdout",
     "output_type": "stream",
     "text": [
      "d_listの大きさ: 1010\n",
      "https://suumo.jp/chintai/tokyo/sc_ota/mansion/?page=17\n"
     ]
    },
    {
     "name": "stderr",
     "output_type": "stream",
     "text": [
      "  5%|▌         | 17/316 [00:38<11:14,  2.26s/it]"
     ]
    },
    {
     "name": "stdout",
     "output_type": "stream",
     "text": [
      "d_listの大きさ: 1057\n",
      "https://suumo.jp/chintai/tokyo/sc_ota/mansion/?page=18\n"
     ]
    },
    {
     "name": "stderr",
     "output_type": "stream",
     "text": [
      "  6%|▌         | 18/316 [00:40<11:15,  2.27s/it]"
     ]
    },
    {
     "name": "stdout",
     "output_type": "stream",
     "text": [
      "d_listの大きさ: 1158\n",
      "https://suumo.jp/chintai/tokyo/sc_ota/mansion/?page=19\n"
     ]
    },
    {
     "name": "stderr",
     "output_type": "stream",
     "text": [
      "  6%|▌         | 19/316 [00:43<11:03,  2.23s/it]"
     ]
    },
    {
     "name": "stdout",
     "output_type": "stream",
     "text": [
      "d_listの大きさ: 1204\n",
      "https://suumo.jp/chintai/tokyo/sc_ota/mansion/?page=20\n"
     ]
    },
    {
     "name": "stderr",
     "output_type": "stream",
     "text": [
      "  6%|▋         | 20/316 [00:45<11:36,  2.35s/it]"
     ]
    },
    {
     "name": "stdout",
     "output_type": "stream",
     "text": [
      "d_listの大きさ: 1286\n",
      "https://suumo.jp/chintai/tokyo/sc_ota/mansion/?page=21\n"
     ]
    },
    {
     "name": "stderr",
     "output_type": "stream",
     "text": [
      "  7%|▋         | 21/316 [00:48<11:46,  2.39s/it]"
     ]
    },
    {
     "name": "stdout",
     "output_type": "stream",
     "text": [
      "d_listの大きさ: 1390\n",
      "https://suumo.jp/chintai/tokyo/sc_ota/mansion/?page=22\n"
     ]
    },
    {
     "name": "stderr",
     "output_type": "stream",
     "text": [
      "  7%|▋         | 22/316 [00:50<11:46,  2.40s/it]"
     ]
    },
    {
     "name": "stdout",
     "output_type": "stream",
     "text": [
      "d_listの大きさ: 1436\n",
      "https://suumo.jp/chintai/tokyo/sc_ota/mansion/?page=23\n"
     ]
    },
    {
     "name": "stderr",
     "output_type": "stream",
     "text": [
      "  7%|▋         | 23/316 [00:52<11:34,  2.37s/it]"
     ]
    },
    {
     "name": "stdout",
     "output_type": "stream",
     "text": [
      "d_listの大きさ: 1498\n",
      "https://suumo.jp/chintai/tokyo/sc_ota/mansion/?page=24\n"
     ]
    },
    {
     "name": "stderr",
     "output_type": "stream",
     "text": [
      "  8%|▊         | 24/316 [00:55<11:30,  2.36s/it]"
     ]
    },
    {
     "name": "stdout",
     "output_type": "stream",
     "text": [
      "d_listの大きさ: 1543\n",
      "https://suumo.jp/chintai/tokyo/sc_ota/mansion/?page=25\n"
     ]
    },
    {
     "name": "stderr",
     "output_type": "stream",
     "text": [
      "  8%|▊         | 25/316 [00:57<11:55,  2.46s/it]"
     ]
    },
    {
     "name": "stdout",
     "output_type": "stream",
     "text": [
      "d_listの大きさ: 1660\n",
      "https://suumo.jp/chintai/tokyo/sc_ota/mansion/?page=26\n"
     ]
    },
    {
     "name": "stderr",
     "output_type": "stream",
     "text": [
      "  8%|▊         | 26/316 [01:00<11:17,  2.34s/it]"
     ]
    },
    {
     "name": "stdout",
     "output_type": "stream",
     "text": [
      "d_listの大きさ: 1694\n",
      "https://suumo.jp/chintai/tokyo/sc_ota/mansion/?page=27\n"
     ]
    },
    {
     "name": "stderr",
     "output_type": "stream",
     "text": [
      "  9%|▊         | 27/316 [01:02<11:15,  2.34s/it]"
     ]
    },
    {
     "name": "stdout",
     "output_type": "stream",
     "text": [
      "d_listの大きさ: 1783\n",
      "https://suumo.jp/chintai/tokyo/sc_ota/mansion/?page=28\n"
     ]
    },
    {
     "name": "stderr",
     "output_type": "stream",
     "text": [
      "  9%|▉         | 28/316 [01:04<10:58,  2.29s/it]"
     ]
    },
    {
     "name": "stdout",
     "output_type": "stream",
     "text": [
      "d_listの大きさ: 1825\n",
      "https://suumo.jp/chintai/tokyo/sc_ota/mansion/?page=29\n"
     ]
    },
    {
     "name": "stderr",
     "output_type": "stream",
     "text": [
      "  9%|▉         | 29/316 [01:07<11:13,  2.35s/it]"
     ]
    },
    {
     "name": "stdout",
     "output_type": "stream",
     "text": [
      "d_listの大きさ: 1885\n",
      "https://suumo.jp/chintai/tokyo/sc_ota/mansion/?page=30\n"
     ]
    },
    {
     "name": "stderr",
     "output_type": "stream",
     "text": [
      "  9%|▉         | 30/316 [01:09<11:02,  2.32s/it]"
     ]
    },
    {
     "name": "stdout",
     "output_type": "stream",
     "text": [
      "d_listの大きさ: 1952\n",
      "https://suumo.jp/chintai/tokyo/sc_ota/mansion/?page=31\n"
     ]
    },
    {
     "name": "stderr",
     "output_type": "stream",
     "text": [
      " 10%|▉         | 31/316 [01:11<11:04,  2.33s/it]"
     ]
    },
    {
     "name": "stdout",
     "output_type": "stream",
     "text": [
      "d_listの大きさ: 2019\n",
      "https://suumo.jp/chintai/tokyo/sc_ota/mansion/?page=32\n"
     ]
    },
    {
     "name": "stderr",
     "output_type": "stream",
     "text": [
      " 10%|█         | 32/316 [01:14<11:47,  2.49s/it]"
     ]
    },
    {
     "name": "stdout",
     "output_type": "stream",
     "text": [
      "d_listの大きさ: 2082\n",
      "https://suumo.jp/chintai/tokyo/sc_ota/mansion/?page=33\n"
     ]
    },
    {
     "name": "stderr",
     "output_type": "stream",
     "text": [
      " 10%|█         | 33/316 [01:16<11:11,  2.37s/it]"
     ]
    },
    {
     "name": "stdout",
     "output_type": "stream",
     "text": [
      "d_listの大きさ: 2124\n",
      "https://suumo.jp/chintai/tokyo/sc_ota/mansion/?page=34\n"
     ]
    },
    {
     "name": "stderr",
     "output_type": "stream",
     "text": [
      " 11%|█         | 34/316 [01:18<10:52,  2.31s/it]"
     ]
    },
    {
     "name": "stdout",
     "output_type": "stream",
     "text": [
      "d_listの大きさ: 2164\n",
      "https://suumo.jp/chintai/tokyo/sc_ota/mansion/?page=35\n"
     ]
    },
    {
     "name": "stderr",
     "output_type": "stream",
     "text": [
      " 11%|█         | 35/316 [01:21<10:48,  2.31s/it]"
     ]
    },
    {
     "name": "stdout",
     "output_type": "stream",
     "text": [
      "d_listの大きさ: 2239\n",
      "https://suumo.jp/chintai/tokyo/sc_ota/mansion/?page=36\n"
     ]
    },
    {
     "name": "stderr",
     "output_type": "stream",
     "text": [
      " 11%|█▏        | 36/316 [01:23<10:27,  2.24s/it]"
     ]
    },
    {
     "name": "stdout",
     "output_type": "stream",
     "text": [
      "d_listの大きさ: 2280\n",
      "https://suumo.jp/chintai/tokyo/sc_ota/mansion/?page=37\n"
     ]
    },
    {
     "name": "stderr",
     "output_type": "stream",
     "text": [
      " 12%|█▏        | 37/316 [01:25<10:12,  2.19s/it]"
     ]
    },
    {
     "name": "stdout",
     "output_type": "stream",
     "text": [
      "d_listの大きさ: 2344\n",
      "https://suumo.jp/chintai/tokyo/sc_ota/mansion/?page=38\n"
     ]
    },
    {
     "name": "stderr",
     "output_type": "stream",
     "text": [
      " 12%|█▏        | 38/316 [01:28<11:31,  2.49s/it]"
     ]
    },
    {
     "name": "stdout",
     "output_type": "stream",
     "text": [
      "d_listの大きさ: 2428\n",
      "https://suumo.jp/chintai/tokyo/sc_ota/mansion/?page=39\n"
     ]
    },
    {
     "name": "stderr",
     "output_type": "stream",
     "text": [
      " 12%|█▏        | 39/316 [01:30<11:21,  2.46s/it]"
     ]
    },
    {
     "name": "stdout",
     "output_type": "stream",
     "text": [
      "d_listの大きさ: 2554\n",
      "https://suumo.jp/chintai/tokyo/sc_ota/mansion/?page=40\n"
     ]
    },
    {
     "name": "stderr",
     "output_type": "stream",
     "text": [
      " 13%|█▎        | 40/316 [01:33<11:18,  2.46s/it]"
     ]
    },
    {
     "name": "stdout",
     "output_type": "stream",
     "text": [
      "d_listの大きさ: 2735\n",
      "https://suumo.jp/chintai/tokyo/sc_ota/mansion/?page=41\n"
     ]
    },
    {
     "name": "stderr",
     "output_type": "stream",
     "text": [
      " 13%|█▎        | 41/316 [01:35<11:14,  2.45s/it]"
     ]
    },
    {
     "name": "stdout",
     "output_type": "stream",
     "text": [
      "d_listの大きさ: 2817\n",
      "https://suumo.jp/chintai/tokyo/sc_ota/mansion/?page=42\n"
     ]
    },
    {
     "name": "stderr",
     "output_type": "stream",
     "text": [
      " 13%|█▎        | 42/316 [01:37<10:47,  2.36s/it]"
     ]
    },
    {
     "name": "stdout",
     "output_type": "stream",
     "text": [
      "d_listの大きさ: 2899\n",
      "https://suumo.jp/chintai/tokyo/sc_ota/mansion/?page=43\n"
     ]
    },
    {
     "name": "stderr",
     "output_type": "stream",
     "text": [
      " 14%|█▎        | 43/316 [01:39<10:15,  2.25s/it]"
     ]
    },
    {
     "name": "stdout",
     "output_type": "stream",
     "text": [
      "d_listの大きさ: 2941\n",
      "https://suumo.jp/chintai/tokyo/sc_ota/mansion/?page=44\n"
     ]
    },
    {
     "name": "stderr",
     "output_type": "stream",
     "text": [
      " 14%|█▍        | 44/316 [01:41<09:57,  2.20s/it]"
     ]
    },
    {
     "name": "stdout",
     "output_type": "stream",
     "text": [
      "d_listの大きさ: 2988\n",
      "https://suumo.jp/chintai/tokyo/sc_ota/mansion/?page=45\n"
     ]
    },
    {
     "name": "stderr",
     "output_type": "stream",
     "text": [
      " 14%|█▍        | 45/316 [01:44<09:50,  2.18s/it]"
     ]
    },
    {
     "name": "stdout",
     "output_type": "stream",
     "text": [
      "d_listの大きさ: 3037\n",
      "https://suumo.jp/chintai/tokyo/sc_ota/mansion/?page=46\n"
     ]
    },
    {
     "name": "stderr",
     "output_type": "stream",
     "text": [
      " 15%|█▍        | 46/316 [01:46<09:46,  2.17s/it]"
     ]
    },
    {
     "name": "stdout",
     "output_type": "stream",
     "text": [
      "d_listの大きさ: 3078\n",
      "https://suumo.jp/chintai/tokyo/sc_ota/mansion/?page=47\n"
     ]
    },
    {
     "name": "stderr",
     "output_type": "stream",
     "text": [
      " 15%|█▍        | 47/316 [01:48<10:17,  2.30s/it]"
     ]
    },
    {
     "name": "stdout",
     "output_type": "stream",
     "text": [
      "d_listの大きさ: 3126\n",
      "https://suumo.jp/chintai/tokyo/sc_ota/mansion/?page=48\n"
     ]
    },
    {
     "name": "stderr",
     "output_type": "stream",
     "text": [
      " 15%|█▌        | 48/316 [01:50<09:49,  2.20s/it]"
     ]
    },
    {
     "name": "stdout",
     "output_type": "stream",
     "text": [
      "d_listの大きさ: 3171\n",
      "https://suumo.jp/chintai/tokyo/sc_ota/mansion/?page=49\n"
     ]
    },
    {
     "name": "stderr",
     "output_type": "stream",
     "text": [
      " 16%|█▌        | 49/316 [01:52<09:39,  2.17s/it]"
     ]
    },
    {
     "name": "stdout",
     "output_type": "stream",
     "text": [
      "d_listの大きさ: 3229\n",
      "https://suumo.jp/chintai/tokyo/sc_ota/mansion/?page=50\n"
     ]
    },
    {
     "name": "stderr",
     "output_type": "stream",
     "text": [
      " 16%|█▌        | 50/316 [01:55<10:09,  2.29s/it]"
     ]
    },
    {
     "name": "stdout",
     "output_type": "stream",
     "text": [
      "d_listの大きさ: 3274\n",
      "https://suumo.jp/chintai/tokyo/sc_ota/mansion/?page=51\n"
     ]
    },
    {
     "name": "stderr",
     "output_type": "stream",
     "text": [
      " 16%|█▌        | 51/316 [01:57<10:10,  2.31s/it]"
     ]
    },
    {
     "name": "stdout",
     "output_type": "stream",
     "text": [
      "d_listの大きさ: 3327\n",
      "https://suumo.jp/chintai/tokyo/sc_ota/mansion/?page=52\n"
     ]
    },
    {
     "name": "stderr",
     "output_type": "stream",
     "text": [
      " 16%|█▋        | 52/316 [01:59<09:47,  2.23s/it]"
     ]
    },
    {
     "name": "stdout",
     "output_type": "stream",
     "text": [
      "d_listの大きさ: 3366\n",
      "https://suumo.jp/chintai/tokyo/sc_ota/mansion/?page=53\n"
     ]
    },
    {
     "name": "stderr",
     "output_type": "stream",
     "text": [
      " 17%|█▋        | 53/316 [02:01<09:31,  2.17s/it]"
     ]
    },
    {
     "name": "stdout",
     "output_type": "stream",
     "text": [
      "d_listの大きさ: 3411\n",
      "https://suumo.jp/chintai/tokyo/sc_ota/mansion/?page=54\n"
     ]
    },
    {
     "name": "stderr",
     "output_type": "stream",
     "text": [
      " 17%|█▋        | 54/316 [02:04<09:27,  2.17s/it]"
     ]
    },
    {
     "name": "stdout",
     "output_type": "stream",
     "text": [
      "d_listの大きさ: 3458\n",
      "https://suumo.jp/chintai/tokyo/sc_ota/mansion/?page=55\n"
     ]
    },
    {
     "name": "stderr",
     "output_type": "stream",
     "text": [
      " 17%|█▋        | 55/316 [02:06<10:07,  2.33s/it]"
     ]
    },
    {
     "name": "stdout",
     "output_type": "stream",
     "text": [
      "d_listの大きさ: 3525\n",
      "https://suumo.jp/chintai/tokyo/sc_ota/mansion/?page=56\n"
     ]
    },
    {
     "name": "stderr",
     "output_type": "stream",
     "text": [
      " 18%|█▊        | 56/316 [02:08<09:47,  2.26s/it]"
     ]
    },
    {
     "name": "stdout",
     "output_type": "stream",
     "text": [
      "d_listの大きさ: 3560\n",
      "https://suumo.jp/chintai/tokyo/sc_ota/mansion/?page=57\n"
     ]
    },
    {
     "name": "stderr",
     "output_type": "stream",
     "text": [
      " 18%|█▊        | 57/316 [02:11<10:09,  2.35s/it]"
     ]
    },
    {
     "name": "stdout",
     "output_type": "stream",
     "text": [
      "d_listの大きさ: 3612\n",
      "https://suumo.jp/chintai/tokyo/sc_ota/mansion/?page=58\n"
     ]
    },
    {
     "name": "stderr",
     "output_type": "stream",
     "text": [
      " 18%|█▊        | 58/316 [02:13<09:42,  2.26s/it]"
     ]
    },
    {
     "name": "stdout",
     "output_type": "stream",
     "text": [
      "d_listの大きさ: 3643\n",
      "https://suumo.jp/chintai/tokyo/sc_ota/mansion/?page=59\n"
     ]
    },
    {
     "name": "stderr",
     "output_type": "stream",
     "text": [
      " 19%|█▊        | 59/316 [02:15<09:24,  2.20s/it]"
     ]
    },
    {
     "name": "stdout",
     "output_type": "stream",
     "text": [
      "d_listの大きさ: 3678\n",
      "https://suumo.jp/chintai/tokyo/sc_ota/mansion/?page=60\n"
     ]
    },
    {
     "name": "stderr",
     "output_type": "stream",
     "text": [
      " 19%|█▉        | 60/316 [02:17<09:19,  2.18s/it]"
     ]
    },
    {
     "name": "stdout",
     "output_type": "stream",
     "text": [
      "d_listの大きさ: 3724\n",
      "https://suumo.jp/chintai/tokyo/sc_ota/mansion/?page=61\n"
     ]
    },
    {
     "name": "stderr",
     "output_type": "stream",
     "text": [
      " 19%|█▉        | 61/316 [02:20<09:53,  2.33s/it]"
     ]
    },
    {
     "name": "stdout",
     "output_type": "stream",
     "text": [
      "d_listの大きさ: 3774\n",
      "https://suumo.jp/chintai/tokyo/sc_ota/mansion/?page=62\n"
     ]
    },
    {
     "name": "stderr",
     "output_type": "stream",
     "text": [
      " 20%|█▉        | 62/316 [02:22<09:30,  2.25s/it]"
     ]
    },
    {
     "name": "stdout",
     "output_type": "stream",
     "text": [
      "d_listの大きさ: 3825\n",
      "https://suumo.jp/chintai/tokyo/sc_ota/mansion/?page=63\n"
     ]
    },
    {
     "name": "stderr",
     "output_type": "stream",
     "text": [
      " 20%|█▉        | 63/316 [02:25<10:07,  2.40s/it]"
     ]
    },
    {
     "name": "stdout",
     "output_type": "stream",
     "text": [
      "d_listの大きさ: 3872\n",
      "https://suumo.jp/chintai/tokyo/sc_ota/mansion/?page=64\n"
     ]
    },
    {
     "name": "stderr",
     "output_type": "stream",
     "text": [
      " 20%|██        | 64/316 [02:27<10:15,  2.44s/it]"
     ]
    },
    {
     "name": "stdout",
     "output_type": "stream",
     "text": [
      "d_listの大きさ: 3921\n",
      "https://suumo.jp/chintai/tokyo/sc_ota/mansion/?page=65\n"
     ]
    },
    {
     "name": "stderr",
     "output_type": "stream",
     "text": [
      " 21%|██        | 65/316 [02:29<09:41,  2.32s/it]"
     ]
    },
    {
     "name": "stdout",
     "output_type": "stream",
     "text": [
      "d_listの大きさ: 3955\n",
      "https://suumo.jp/chintai/tokyo/sc_ota/mansion/?page=66\n"
     ]
    },
    {
     "name": "stderr",
     "output_type": "stream",
     "text": [
      " 21%|██        | 66/316 [02:31<09:22,  2.25s/it]"
     ]
    },
    {
     "name": "stdout",
     "output_type": "stream",
     "text": [
      "d_listの大きさ: 4003\n",
      "https://suumo.jp/chintai/tokyo/sc_ota/mansion/?page=67\n"
     ]
    },
    {
     "name": "stderr",
     "output_type": "stream",
     "text": [
      " 21%|██        | 67/316 [02:33<09:05,  2.19s/it]"
     ]
    },
    {
     "name": "stdout",
     "output_type": "stream",
     "text": [
      "d_listの大きさ: 4050\n",
      "https://suumo.jp/chintai/tokyo/sc_ota/mansion/?page=68\n"
     ]
    },
    {
     "name": "stderr",
     "output_type": "stream",
     "text": [
      " 22%|██▏       | 68/316 [02:35<08:51,  2.15s/it]"
     ]
    },
    {
     "name": "stdout",
     "output_type": "stream",
     "text": [
      "d_listの大きさ: 4101\n",
      "https://suumo.jp/chintai/tokyo/sc_ota/mansion/?page=69\n"
     ]
    },
    {
     "name": "stderr",
     "output_type": "stream",
     "text": [
      " 22%|██▏       | 69/316 [02:38<09:06,  2.21s/it]"
     ]
    },
    {
     "name": "stdout",
     "output_type": "stream",
     "text": [
      "d_listの大きさ: 4154\n",
      "https://suumo.jp/chintai/tokyo/sc_ota/mansion/?page=70\n"
     ]
    },
    {
     "name": "stderr",
     "output_type": "stream",
     "text": [
      " 22%|██▏       | 70/316 [02:40<09:21,  2.28s/it]"
     ]
    },
    {
     "name": "stdout",
     "output_type": "stream",
     "text": [
      "d_listの大きさ: 4186\n",
      "https://suumo.jp/chintai/tokyo/sc_ota/mansion/?page=71\n"
     ]
    },
    {
     "name": "stderr",
     "output_type": "stream",
     "text": [
      " 22%|██▏       | 71/316 [02:42<09:02,  2.22s/it]"
     ]
    },
    {
     "name": "stdout",
     "output_type": "stream",
     "text": [
      "d_listの大きさ: 4225\n",
      "https://suumo.jp/chintai/tokyo/sc_ota/mansion/?page=72\n"
     ]
    },
    {
     "name": "stderr",
     "output_type": "stream",
     "text": [
      " 23%|██▎       | 72/316 [02:44<08:46,  2.16s/it]"
     ]
    },
    {
     "name": "stdout",
     "output_type": "stream",
     "text": [
      "d_listの大きさ: 4257\n",
      "https://suumo.jp/chintai/tokyo/sc_ota/mansion/?page=73\n"
     ]
    },
    {
     "name": "stderr",
     "output_type": "stream",
     "text": [
      " 23%|██▎       | 73/316 [02:46<08:37,  2.13s/it]"
     ]
    },
    {
     "name": "stdout",
     "output_type": "stream",
     "text": [
      "d_listの大きさ: 4287\n",
      "https://suumo.jp/chintai/tokyo/sc_ota/mansion/?page=74\n"
     ]
    },
    {
     "name": "stderr",
     "output_type": "stream",
     "text": [
      " 23%|██▎       | 74/316 [02:48<08:29,  2.10s/it]"
     ]
    },
    {
     "name": "stdout",
     "output_type": "stream",
     "text": [
      "d_listの大きさ: 4315\n",
      "https://suumo.jp/chintai/tokyo/sc_ota/mansion/?page=75\n"
     ]
    },
    {
     "name": "stderr",
     "output_type": "stream",
     "text": [
      " 24%|██▎       | 75/316 [02:51<08:50,  2.20s/it]"
     ]
    },
    {
     "name": "stdout",
     "output_type": "stream",
     "text": [
      "d_listの大きさ: 4384\n",
      "https://suumo.jp/chintai/tokyo/sc_ota/mansion/?page=76\n"
     ]
    },
    {
     "name": "stderr",
     "output_type": "stream",
     "text": [
      " 24%|██▍       | 76/316 [02:53<08:35,  2.15s/it]"
     ]
    },
    {
     "name": "stdout",
     "output_type": "stream",
     "text": [
      "d_listの大きさ: 4407\n",
      "https://suumo.jp/chintai/tokyo/sc_ota/mansion/?page=77\n"
     ]
    },
    {
     "name": "stderr",
     "output_type": "stream",
     "text": [
      " 24%|██▍       | 77/316 [02:55<08:18,  2.09s/it]"
     ]
    },
    {
     "name": "stdout",
     "output_type": "stream",
     "text": [
      "d_listの大きさ: 4446\n",
      "https://suumo.jp/chintai/tokyo/sc_ota/mansion/?page=78\n"
     ]
    },
    {
     "name": "stderr",
     "output_type": "stream",
     "text": [
      " 25%|██▍       | 78/316 [02:57<08:46,  2.21s/it]"
     ]
    },
    {
     "name": "stdout",
     "output_type": "stream",
     "text": [
      "d_listの大きさ: 4559\n",
      "https://suumo.jp/chintai/tokyo/sc_ota/mansion/?page=79\n"
     ]
    },
    {
     "name": "stderr",
     "output_type": "stream",
     "text": [
      " 25%|██▌       | 79/316 [02:59<08:41,  2.20s/it]"
     ]
    },
    {
     "name": "stdout",
     "output_type": "stream",
     "text": [
      "d_listの大きさ: 4617\n",
      "https://suumo.jp/chintai/tokyo/sc_ota/mansion/?page=80\n"
     ]
    },
    {
     "name": "stderr",
     "output_type": "stream",
     "text": [
      " 25%|██▌       | 80/316 [03:02<08:33,  2.17s/it]"
     ]
    },
    {
     "name": "stdout",
     "output_type": "stream",
     "text": [
      "d_listの大きさ: 4671\n",
      "https://suumo.jp/chintai/tokyo/sc_ota/mansion/?page=81\n"
     ]
    },
    {
     "name": "stderr",
     "output_type": "stream",
     "text": [
      " 26%|██▌       | 81/316 [03:04<08:15,  2.11s/it]"
     ]
    },
    {
     "name": "stdout",
     "output_type": "stream",
     "text": [
      "d_listの大きさ: 4704\n",
      "https://suumo.jp/chintai/tokyo/sc_ota/mansion/?page=82\n"
     ]
    },
    {
     "name": "stderr",
     "output_type": "stream",
     "text": [
      " 26%|██▌       | 82/316 [03:07<09:25,  2.42s/it]"
     ]
    },
    {
     "name": "stdout",
     "output_type": "stream",
     "text": [
      "d_listの大きさ: 4756\n",
      "https://suumo.jp/chintai/tokyo/sc_ota/mansion/?page=83\n"
     ]
    },
    {
     "name": "stderr",
     "output_type": "stream",
     "text": [
      " 26%|██▋       | 83/316 [03:09<08:59,  2.32s/it]"
     ]
    },
    {
     "name": "stdout",
     "output_type": "stream",
     "text": [
      "d_listの大きさ: 4812\n",
      "https://suumo.jp/chintai/tokyo/sc_ota/mansion/?page=84\n"
     ]
    },
    {
     "name": "stderr",
     "output_type": "stream",
     "text": [
      " 27%|██▋       | 84/316 [03:11<09:14,  2.39s/it]"
     ]
    },
    {
     "name": "stdout",
     "output_type": "stream",
     "text": [
      "d_listの大きさ: 4835\n",
      "https://suumo.jp/chintai/tokyo/sc_ota/mansion/?page=85\n"
     ]
    },
    {
     "name": "stderr",
     "output_type": "stream",
     "text": [
      " 27%|██▋       | 85/316 [03:13<08:56,  2.32s/it]"
     ]
    },
    {
     "name": "stdout",
     "output_type": "stream",
     "text": [
      "d_listの大きさ: 4870\n",
      "https://suumo.jp/chintai/tokyo/sc_ota/mansion/?page=86\n"
     ]
    },
    {
     "name": "stderr",
     "output_type": "stream",
     "text": [
      " 27%|██▋       | 86/316 [03:16<08:45,  2.28s/it]"
     ]
    },
    {
     "name": "stdout",
     "output_type": "stream",
     "text": [
      "d_listの大きさ: 4933\n",
      "https://suumo.jp/chintai/tokyo/sc_ota/mansion/?page=87\n"
     ]
    },
    {
     "name": "stderr",
     "output_type": "stream",
     "text": [
      " 28%|██▊       | 87/316 [03:18<08:21,  2.19s/it]"
     ]
    },
    {
     "name": "stdout",
     "output_type": "stream",
     "text": [
      "d_listの大きさ: 4960\n",
      "https://suumo.jp/chintai/tokyo/sc_ota/mansion/?page=88\n"
     ]
    },
    {
     "name": "stderr",
     "output_type": "stream",
     "text": [
      " 28%|██▊       | 88/316 [03:20<08:12,  2.16s/it]"
     ]
    },
    {
     "name": "stdout",
     "output_type": "stream",
     "text": [
      "d_listの大きさ: 4997\n",
      "https://suumo.jp/chintai/tokyo/sc_ota/mansion/?page=89\n"
     ]
    },
    {
     "name": "stderr",
     "output_type": "stream",
     "text": [
      " 28%|██▊       | 89/316 [03:22<08:10,  2.16s/it]"
     ]
    },
    {
     "name": "stdout",
     "output_type": "stream",
     "text": [
      "d_listの大きさ: 5045\n",
      "https://suumo.jp/chintai/tokyo/sc_ota/mansion/?page=90\n"
     ]
    },
    {
     "name": "stderr",
     "output_type": "stream",
     "text": [
      " 28%|██▊       | 90/316 [03:24<08:03,  2.14s/it]"
     ]
    },
    {
     "name": "stdout",
     "output_type": "stream",
     "text": [
      "d_listの大きさ: 5076\n",
      "https://suumo.jp/chintai/tokyo/sc_ota/mansion/?page=91\n"
     ]
    },
    {
     "name": "stderr",
     "output_type": "stream",
     "text": [
      " 29%|██▉       | 91/316 [03:26<07:58,  2.13s/it]"
     ]
    },
    {
     "name": "stdout",
     "output_type": "stream",
     "text": [
      "d_listの大きさ: 5128\n",
      "https://suumo.jp/chintai/tokyo/sc_ota/mansion/?page=92\n"
     ]
    },
    {
     "name": "stderr",
     "output_type": "stream",
     "text": [
      " 29%|██▉       | 92/316 [03:28<07:49,  2.10s/it]"
     ]
    },
    {
     "name": "stdout",
     "output_type": "stream",
     "text": [
      "d_listの大きさ: 5162\n",
      "https://suumo.jp/chintai/tokyo/sc_ota/mansion/?page=93\n"
     ]
    },
    {
     "name": "stderr",
     "output_type": "stream",
     "text": [
      " 29%|██▉       | 93/316 [03:30<07:46,  2.09s/it]"
     ]
    },
    {
     "name": "stdout",
     "output_type": "stream",
     "text": [
      "d_listの大きさ: 5216\n",
      "https://suumo.jp/chintai/tokyo/sc_ota/mansion/?page=94\n"
     ]
    },
    {
     "name": "stderr",
     "output_type": "stream",
     "text": [
      " 30%|██▉       | 94/316 [03:32<07:47,  2.10s/it]"
     ]
    },
    {
     "name": "stdout",
     "output_type": "stream",
     "text": [
      "d_listの大きさ: 5250\n",
      "https://suumo.jp/chintai/tokyo/sc_ota/mansion/?page=95\n"
     ]
    },
    {
     "name": "stderr",
     "output_type": "stream",
     "text": [
      " 30%|███       | 95/316 [03:34<07:47,  2.12s/it]"
     ]
    },
    {
     "name": "stdout",
     "output_type": "stream",
     "text": [
      "d_listの大きさ: 5278\n",
      "https://suumo.jp/chintai/tokyo/sc_ota/mansion/?page=96\n"
     ]
    },
    {
     "name": "stderr",
     "output_type": "stream",
     "text": [
      " 30%|███       | 96/316 [03:37<07:48,  2.13s/it]"
     ]
    },
    {
     "name": "stdout",
     "output_type": "stream",
     "text": [
      "d_listの大きさ: 5318\n",
      "https://suumo.jp/chintai/tokyo/sc_ota/mansion/?page=97\n"
     ]
    },
    {
     "name": "stderr",
     "output_type": "stream",
     "text": [
      " 31%|███       | 97/316 [03:39<07:43,  2.12s/it]"
     ]
    },
    {
     "name": "stdout",
     "output_type": "stream",
     "text": [
      "d_listの大きさ: 5347\n",
      "https://suumo.jp/chintai/tokyo/sc_ota/mansion/?page=98\n"
     ]
    },
    {
     "name": "stderr",
     "output_type": "stream",
     "text": [
      " 31%|███       | 98/316 [03:41<08:04,  2.22s/it]"
     ]
    },
    {
     "name": "stdout",
     "output_type": "stream",
     "text": [
      "d_listの大きさ: 5436\n",
      "https://suumo.jp/chintai/tokyo/sc_ota/mansion/?page=99\n"
     ]
    },
    {
     "name": "stderr",
     "output_type": "stream",
     "text": [
      " 31%|███▏      | 99/316 [03:44<08:17,  2.29s/it]"
     ]
    },
    {
     "name": "stdout",
     "output_type": "stream",
     "text": [
      "d_listの大きさ: 5478\n",
      "https://suumo.jp/chintai/tokyo/sc_ota/mansion/?page=100\n"
     ]
    },
    {
     "name": "stderr",
     "output_type": "stream",
     "text": [
      " 32%|███▏      | 100/316 [03:46<08:09,  2.27s/it]"
     ]
    },
    {
     "name": "stdout",
     "output_type": "stream",
     "text": [
      "d_listの大きさ: 5513\n",
      "https://suumo.jp/chintai/tokyo/sc_ota/mansion/?page=101\n"
     ]
    },
    {
     "name": "stderr",
     "output_type": "stream",
     "text": [
      " 32%|███▏      | 101/316 [03:48<07:53,  2.20s/it]"
     ]
    },
    {
     "name": "stdout",
     "output_type": "stream",
     "text": [
      "d_listの大きさ: 5548\n",
      "https://suumo.jp/chintai/tokyo/sc_ota/mansion/?page=102\n"
     ]
    },
    {
     "name": "stderr",
     "output_type": "stream",
     "text": [
      " 32%|███▏      | 102/316 [03:50<07:58,  2.24s/it]"
     ]
    },
    {
     "name": "stdout",
     "output_type": "stream",
     "text": [
      "d_listの大きさ: 5628\n",
      "https://suumo.jp/chintai/tokyo/sc_ota/mansion/?page=103\n"
     ]
    },
    {
     "name": "stderr",
     "output_type": "stream",
     "text": [
      " 33%|███▎      | 103/316 [03:52<07:56,  2.24s/it]"
     ]
    },
    {
     "name": "stdout",
     "output_type": "stream",
     "text": [
      "d_listの大きさ: 5682\n",
      "https://suumo.jp/chintai/tokyo/sc_ota/mansion/?page=104\n"
     ]
    },
    {
     "name": "stderr",
     "output_type": "stream",
     "text": [
      " 33%|███▎      | 104/316 [03:55<07:45,  2.20s/it]"
     ]
    },
    {
     "name": "stdout",
     "output_type": "stream",
     "text": [
      "d_listの大きさ: 5716\n",
      "https://suumo.jp/chintai/tokyo/sc_ota/mansion/?page=105\n"
     ]
    },
    {
     "name": "stderr",
     "output_type": "stream",
     "text": [
      " 33%|███▎      | 105/316 [03:57<07:33,  2.15s/it]"
     ]
    },
    {
     "name": "stdout",
     "output_type": "stream",
     "text": [
      "d_listの大きさ: 5745\n",
      "https://suumo.jp/chintai/tokyo/sc_ota/mansion/?page=106\n"
     ]
    },
    {
     "name": "stderr",
     "output_type": "stream",
     "text": [
      " 34%|███▎      | 106/316 [03:59<07:38,  2.18s/it]"
     ]
    },
    {
     "name": "stdout",
     "output_type": "stream",
     "text": [
      "d_listの大きさ: 5782\n",
      "https://suumo.jp/chintai/tokyo/sc_ota/mansion/?page=107\n"
     ]
    },
    {
     "name": "stderr",
     "output_type": "stream",
     "text": [
      " 34%|███▍      | 107/316 [04:02<08:54,  2.56s/it]"
     ]
    },
    {
     "name": "stdout",
     "output_type": "stream",
     "text": [
      "d_listの大きさ: 5805\n",
      "https://suumo.jp/chintai/tokyo/sc_ota/mansion/?page=108\n"
     ]
    },
    {
     "name": "stderr",
     "output_type": "stream",
     "text": [
      " 34%|███▍      | 108/316 [04:04<08:23,  2.42s/it]"
     ]
    },
    {
     "name": "stdout",
     "output_type": "stream",
     "text": [
      "d_listの大きさ: 5839\n",
      "https://suumo.jp/chintai/tokyo/sc_ota/mansion/?page=109\n"
     ]
    },
    {
     "name": "stderr",
     "output_type": "stream",
     "text": [
      " 34%|███▍      | 109/316 [04:06<07:59,  2.31s/it]"
     ]
    },
    {
     "name": "stdout",
     "output_type": "stream",
     "text": [
      "d_listの大きさ: 5892\n",
      "https://suumo.jp/chintai/tokyo/sc_ota/mansion/?page=110\n"
     ]
    },
    {
     "name": "stderr",
     "output_type": "stream",
     "text": [
      " 35%|███▍      | 110/316 [04:09<07:46,  2.26s/it]"
     ]
    },
    {
     "name": "stdout",
     "output_type": "stream",
     "text": [
      "d_listの大きさ: 5951\n",
      "https://suumo.jp/chintai/tokyo/sc_ota/mansion/?page=111\n"
     ]
    },
    {
     "name": "stderr",
     "output_type": "stream",
     "text": [
      " 35%|███▌      | 111/316 [04:11<07:33,  2.21s/it]"
     ]
    },
    {
     "name": "stdout",
     "output_type": "stream",
     "text": [
      "d_listの大きさ: 5991\n",
      "https://suumo.jp/chintai/tokyo/sc_ota/mansion/?page=112\n"
     ]
    },
    {
     "name": "stderr",
     "output_type": "stream",
     "text": [
      " 35%|███▌      | 112/316 [04:13<07:21,  2.16s/it]"
     ]
    },
    {
     "name": "stdout",
     "output_type": "stream",
     "text": [
      "d_listの大きさ: 6019\n",
      "https://suumo.jp/chintai/tokyo/sc_ota/mansion/?page=113\n"
     ]
    },
    {
     "name": "stderr",
     "output_type": "stream",
     "text": [
      " 36%|███▌      | 113/316 [04:15<07:12,  2.13s/it]"
     ]
    },
    {
     "name": "stdout",
     "output_type": "stream",
     "text": [
      "d_listの大きさ: 6058\n",
      "https://suumo.jp/chintai/tokyo/sc_ota/mansion/?page=114\n"
     ]
    },
    {
     "name": "stderr",
     "output_type": "stream",
     "text": [
      " 36%|███▌      | 114/316 [04:17<07:10,  2.13s/it]"
     ]
    },
    {
     "name": "stdout",
     "output_type": "stream",
     "text": [
      "d_listの大きさ: 6087\n",
      "https://suumo.jp/chintai/tokyo/sc_ota/mansion/?page=115\n"
     ]
    },
    {
     "name": "stderr",
     "output_type": "stream",
     "text": [
      " 36%|███▋      | 115/316 [04:19<07:04,  2.11s/it]"
     ]
    },
    {
     "name": "stdout",
     "output_type": "stream",
     "text": [
      "d_listの大きさ: 6132\n",
      "https://suumo.jp/chintai/tokyo/sc_ota/mansion/?page=116\n"
     ]
    },
    {
     "name": "stderr",
     "output_type": "stream",
     "text": [
      " 37%|███▋      | 116/316 [04:21<07:06,  2.13s/it]"
     ]
    },
    {
     "name": "stdout",
     "output_type": "stream",
     "text": [
      "d_listの大きさ: 6163\n",
      "https://suumo.jp/chintai/tokyo/sc_ota/mansion/?page=117\n"
     ]
    },
    {
     "name": "stderr",
     "output_type": "stream",
     "text": [
      " 37%|███▋      | 117/316 [04:23<07:05,  2.14s/it]"
     ]
    },
    {
     "name": "stdout",
     "output_type": "stream",
     "text": [
      "d_listの大きさ: 6200\n",
      "https://suumo.jp/chintai/tokyo/sc_ota/mansion/?page=118\n"
     ]
    },
    {
     "name": "stderr",
     "output_type": "stream",
     "text": [
      " 37%|███▋      | 118/316 [04:26<07:17,  2.21s/it]"
     ]
    },
    {
     "name": "stdout",
     "output_type": "stream",
     "text": [
      "d_listの大きさ: 6229\n",
      "https://suumo.jp/chintai/tokyo/sc_ota/mansion/?page=119\n"
     ]
    },
    {
     "name": "stderr",
     "output_type": "stream",
     "text": [
      " 38%|███▊      | 119/316 [04:28<07:06,  2.17s/it]"
     ]
    },
    {
     "name": "stdout",
     "output_type": "stream",
     "text": [
      "d_listの大きさ: 6251\n",
      "https://suumo.jp/chintai/tokyo/sc_ota/mansion/?page=120\n"
     ]
    },
    {
     "name": "stderr",
     "output_type": "stream",
     "text": [
      " 38%|███▊      | 120/316 [04:30<07:00,  2.15s/it]"
     ]
    },
    {
     "name": "stdout",
     "output_type": "stream",
     "text": [
      "d_listの大きさ: 6291\n",
      "https://suumo.jp/chintai/tokyo/sc_ota/mansion/?page=121\n"
     ]
    },
    {
     "name": "stderr",
     "output_type": "stream",
     "text": [
      " 38%|███▊      | 121/316 [04:32<06:54,  2.13s/it]"
     ]
    },
    {
     "name": "stdout",
     "output_type": "stream",
     "text": [
      "d_listの大きさ: 6334\n",
      "https://suumo.jp/chintai/tokyo/sc_ota/mansion/?page=122\n"
     ]
    },
    {
     "name": "stderr",
     "output_type": "stream",
     "text": [
      " 39%|███▊      | 122/316 [04:34<06:52,  2.13s/it]"
     ]
    },
    {
     "name": "stdout",
     "output_type": "stream",
     "text": [
      "d_listの大きさ: 6376\n",
      "https://suumo.jp/chintai/tokyo/sc_ota/mansion/?page=123\n"
     ]
    },
    {
     "name": "stderr",
     "output_type": "stream",
     "text": [
      " 39%|███▉      | 123/316 [04:36<06:57,  2.17s/it]"
     ]
    },
    {
     "name": "stdout",
     "output_type": "stream",
     "text": [
      "d_listの大きさ: 6424\n",
      "https://suumo.jp/chintai/tokyo/sc_ota/mansion/?page=124\n"
     ]
    },
    {
     "name": "stderr",
     "output_type": "stream",
     "text": [
      " 39%|███▉      | 124/316 [04:38<06:52,  2.15s/it]"
     ]
    },
    {
     "name": "stdout",
     "output_type": "stream",
     "text": [
      "d_listの大きさ: 6460\n",
      "https://suumo.jp/chintai/tokyo/sc_ota/mansion/?page=125\n"
     ]
    },
    {
     "name": "stderr",
     "output_type": "stream",
     "text": [
      " 40%|███▉      | 125/316 [04:40<06:44,  2.12s/it]"
     ]
    },
    {
     "name": "stdout",
     "output_type": "stream",
     "text": [
      "d_listの大きさ: 6492\n",
      "https://suumo.jp/chintai/tokyo/sc_ota/mansion/?page=126\n"
     ]
    },
    {
     "name": "stderr",
     "output_type": "stream",
     "text": [
      " 40%|███▉      | 126/316 [04:43<06:54,  2.18s/it]"
     ]
    },
    {
     "name": "stdout",
     "output_type": "stream",
     "text": [
      "d_listの大きさ: 6562\n",
      "https://suumo.jp/chintai/tokyo/sc_ota/mansion/?page=127\n"
     ]
    },
    {
     "name": "stderr",
     "output_type": "stream",
     "text": [
      " 40%|████      | 127/316 [04:45<06:42,  2.13s/it]"
     ]
    },
    {
     "name": "stdout",
     "output_type": "stream",
     "text": [
      "d_listの大きさ: 6599\n",
      "https://suumo.jp/chintai/tokyo/sc_ota/mansion/?page=128\n"
     ]
    },
    {
     "name": "stderr",
     "output_type": "stream",
     "text": [
      " 41%|████      | 128/316 [04:47<06:34,  2.10s/it]"
     ]
    },
    {
     "name": "stdout",
     "output_type": "stream",
     "text": [
      "d_listの大きさ: 6629\n",
      "https://suumo.jp/chintai/tokyo/sc_ota/mansion/?page=129\n"
     ]
    },
    {
     "name": "stderr",
     "output_type": "stream",
     "text": [
      " 41%|████      | 129/316 [04:49<06:29,  2.08s/it]"
     ]
    },
    {
     "name": "stdout",
     "output_type": "stream",
     "text": [
      "d_listの大きさ: 6669\n",
      "https://suumo.jp/chintai/tokyo/sc_ota/mansion/?page=130\n"
     ]
    },
    {
     "name": "stderr",
     "output_type": "stream",
     "text": [
      " 41%|████      | 130/316 [04:51<06:19,  2.04s/it]"
     ]
    },
    {
     "name": "stdout",
     "output_type": "stream",
     "text": [
      "d_listの大きさ: 6703\n",
      "https://suumo.jp/chintai/tokyo/sc_ota/mansion/?page=131\n"
     ]
    },
    {
     "name": "stderr",
     "output_type": "stream",
     "text": [
      " 41%|████▏     | 131/316 [04:53<06:18,  2.05s/it]"
     ]
    },
    {
     "name": "stdout",
     "output_type": "stream",
     "text": [
      "d_listの大きさ: 6735\n",
      "https://suumo.jp/chintai/tokyo/sc_ota/mansion/?page=132\n"
     ]
    },
    {
     "name": "stderr",
     "output_type": "stream",
     "text": [
      " 42%|████▏     | 132/316 [04:55<06:16,  2.04s/it]"
     ]
    },
    {
     "name": "stdout",
     "output_type": "stream",
     "text": [
      "d_listの大きさ: 6769\n",
      "https://suumo.jp/chintai/tokyo/sc_ota/mansion/?page=133\n"
     ]
    },
    {
     "name": "stderr",
     "output_type": "stream",
     "text": [
      " 42%|████▏     | 133/316 [04:57<06:13,  2.04s/it]"
     ]
    },
    {
     "name": "stdout",
     "output_type": "stream",
     "text": [
      "d_listの大きさ: 6793\n",
      "https://suumo.jp/chintai/tokyo/sc_ota/mansion/?page=134\n"
     ]
    },
    {
     "name": "stderr",
     "output_type": "stream",
     "text": [
      " 42%|████▏     | 134/316 [04:59<06:14,  2.06s/it]"
     ]
    },
    {
     "name": "stdout",
     "output_type": "stream",
     "text": [
      "d_listの大きさ: 6849\n",
      "https://suumo.jp/chintai/tokyo/sc_ota/mansion/?page=135\n"
     ]
    },
    {
     "name": "stderr",
     "output_type": "stream",
     "text": [
      " 43%|████▎     | 135/316 [05:01<06:16,  2.08s/it]"
     ]
    },
    {
     "name": "stdout",
     "output_type": "stream",
     "text": [
      "d_listの大きさ: 6878\n",
      "https://suumo.jp/chintai/tokyo/sc_ota/mansion/?page=136\n"
     ]
    },
    {
     "name": "stderr",
     "output_type": "stream",
     "text": [
      " 43%|████▎     | 136/316 [05:03<06:18,  2.11s/it]"
     ]
    },
    {
     "name": "stdout",
     "output_type": "stream",
     "text": [
      "d_listの大きさ: 6920\n",
      "https://suumo.jp/chintai/tokyo/sc_ota/mansion/?page=137\n"
     ]
    },
    {
     "name": "stderr",
     "output_type": "stream",
     "text": [
      " 43%|████▎     | 137/316 [05:05<06:17,  2.11s/it]"
     ]
    },
    {
     "name": "stdout",
     "output_type": "stream",
     "text": [
      "d_listの大きさ: 6953\n",
      "https://suumo.jp/chintai/tokyo/sc_ota/mansion/?page=138\n"
     ]
    },
    {
     "name": "stderr",
     "output_type": "stream",
     "text": [
      " 44%|████▎     | 138/316 [05:08<06:11,  2.09s/it]"
     ]
    },
    {
     "name": "stdout",
     "output_type": "stream",
     "text": [
      "d_listの大きさ: 6985\n",
      "https://suumo.jp/chintai/tokyo/sc_ota/mansion/?page=139\n"
     ]
    },
    {
     "name": "stderr",
     "output_type": "stream",
     "text": [
      " 44%|████▍     | 139/316 [05:09<06:04,  2.06s/it]"
     ]
    },
    {
     "name": "stdout",
     "output_type": "stream",
     "text": [
      "d_listの大きさ: 7018\n",
      "https://suumo.jp/chintai/tokyo/sc_ota/mansion/?page=140\n"
     ]
    },
    {
     "name": "stderr",
     "output_type": "stream",
     "text": [
      " 44%|████▍     | 140/316 [05:14<08:01,  2.73s/it]"
     ]
    },
    {
     "name": "stdout",
     "output_type": "stream",
     "text": [
      "d_listの大きさ: 7049\n",
      "https://suumo.jp/chintai/tokyo/sc_ota/mansion/?page=141\n"
     ]
    },
    {
     "name": "stderr",
     "output_type": "stream",
     "text": [
      " 45%|████▍     | 141/316 [05:16<07:33,  2.59s/it]"
     ]
    },
    {
     "name": "stdout",
     "output_type": "stream",
     "text": [
      "d_listの大きさ: 7104\n",
      "https://suumo.jp/chintai/tokyo/sc_ota/mansion/?page=142\n"
     ]
    },
    {
     "name": "stderr",
     "output_type": "stream",
     "text": [
      " 45%|████▍     | 142/316 [05:18<07:12,  2.49s/it]"
     ]
    },
    {
     "name": "stdout",
     "output_type": "stream",
     "text": [
      "d_listの大きさ: 7140\n",
      "https://suumo.jp/chintai/tokyo/sc_ota/mansion/?page=143\n"
     ]
    },
    {
     "name": "stderr",
     "output_type": "stream",
     "text": [
      " 45%|████▌     | 143/316 [05:20<06:45,  2.34s/it]"
     ]
    },
    {
     "name": "stdout",
     "output_type": "stream",
     "text": [
      "d_listの大きさ: 7170\n",
      "https://suumo.jp/chintai/tokyo/sc_ota/mansion/?page=144\n"
     ]
    },
    {
     "name": "stderr",
     "output_type": "stream",
     "text": [
      " 46%|████▌     | 144/316 [05:23<06:35,  2.30s/it]"
     ]
    },
    {
     "name": "stdout",
     "output_type": "stream",
     "text": [
      "d_listの大きさ: 7223\n",
      "https://suumo.jp/chintai/tokyo/sc_ota/mansion/?page=145\n"
     ]
    },
    {
     "name": "stderr",
     "output_type": "stream",
     "text": [
      " 46%|████▌     | 145/316 [05:25<06:22,  2.24s/it]"
     ]
    },
    {
     "name": "stdout",
     "output_type": "stream",
     "text": [
      "d_listの大きさ: 7265\n",
      "https://suumo.jp/chintai/tokyo/sc_ota/mansion/?page=146\n"
     ]
    },
    {
     "name": "stderr",
     "output_type": "stream",
     "text": [
      " 46%|████▌     | 146/316 [05:27<06:13,  2.19s/it]"
     ]
    },
    {
     "name": "stdout",
     "output_type": "stream",
     "text": [
      "d_listの大きさ: 7302\n",
      "https://suumo.jp/chintai/tokyo/sc_ota/mansion/?page=147\n"
     ]
    },
    {
     "name": "stderr",
     "output_type": "stream",
     "text": [
      " 47%|████▋     | 147/316 [05:29<06:03,  2.15s/it]"
     ]
    },
    {
     "name": "stdout",
     "output_type": "stream",
     "text": [
      "d_listの大きさ: 7354\n",
      "https://suumo.jp/chintai/tokyo/sc_ota/mansion/?page=148\n"
     ]
    },
    {
     "name": "stderr",
     "output_type": "stream",
     "text": [
      " 47%|████▋     | 148/316 [05:31<05:55,  2.11s/it]"
     ]
    },
    {
     "name": "stdout",
     "output_type": "stream",
     "text": [
      "d_listの大きさ: 7386\n",
      "https://suumo.jp/chintai/tokyo/sc_ota/mansion/?page=149\n"
     ]
    },
    {
     "name": "stderr",
     "output_type": "stream",
     "text": [
      " 47%|████▋     | 149/316 [05:33<05:51,  2.10s/it]"
     ]
    },
    {
     "name": "stdout",
     "output_type": "stream",
     "text": [
      "d_listの大きさ: 7419\n",
      "https://suumo.jp/chintai/tokyo/sc_ota/mansion/?page=150\n"
     ]
    },
    {
     "name": "stderr",
     "output_type": "stream",
     "text": [
      " 47%|████▋     | 150/316 [05:35<05:51,  2.12s/it]"
     ]
    },
    {
     "name": "stdout",
     "output_type": "stream",
     "text": [
      "d_listの大きさ: 7462\n",
      "https://suumo.jp/chintai/tokyo/sc_ota/mansion/?page=151\n"
     ]
    },
    {
     "name": "stderr",
     "output_type": "stream",
     "text": [
      " 48%|████▊     | 151/316 [05:37<05:44,  2.09s/it]"
     ]
    },
    {
     "name": "stdout",
     "output_type": "stream",
     "text": [
      "d_listの大きさ: 7490\n",
      "https://suumo.jp/chintai/tokyo/sc_ota/mansion/?page=152\n"
     ]
    },
    {
     "name": "stderr",
     "output_type": "stream",
     "text": [
      " 48%|████▊     | 152/316 [05:39<05:42,  2.09s/it]"
     ]
    },
    {
     "name": "stdout",
     "output_type": "stream",
     "text": [
      "d_listの大きさ: 7523\n",
      "https://suumo.jp/chintai/tokyo/sc_ota/mansion/?page=153\n"
     ]
    },
    {
     "name": "stderr",
     "output_type": "stream",
     "text": [
      " 48%|████▊     | 153/316 [05:41<05:47,  2.13s/it]"
     ]
    },
    {
     "name": "stdout",
     "output_type": "stream",
     "text": [
      "d_listの大きさ: 7563\n",
      "https://suumo.jp/chintai/tokyo/sc_ota/mansion/?page=154\n"
     ]
    },
    {
     "name": "stderr",
     "output_type": "stream",
     "text": [
      " 49%|████▊     | 154/316 [05:43<05:37,  2.08s/it]"
     ]
    },
    {
     "name": "stdout",
     "output_type": "stream",
     "text": [
      "d_listの大きさ: 7594\n",
      "https://suumo.jp/chintai/tokyo/sc_ota/mansion/?page=155\n"
     ]
    },
    {
     "name": "stderr",
     "output_type": "stream",
     "text": [
      " 49%|████▉     | 155/316 [05:46<05:42,  2.13s/it]"
     ]
    },
    {
     "name": "stdout",
     "output_type": "stream",
     "text": [
      "d_listの大きさ: 7647\n",
      "https://suumo.jp/chintai/tokyo/sc_ota/mansion/?page=156\n"
     ]
    },
    {
     "name": "stderr",
     "output_type": "stream",
     "text": [
      " 49%|████▉     | 156/316 [05:48<05:35,  2.09s/it]"
     ]
    },
    {
     "name": "stdout",
     "output_type": "stream",
     "text": [
      "d_listの大きさ: 7686\n",
      "https://suumo.jp/chintai/tokyo/sc_ota/mansion/?page=157\n"
     ]
    },
    {
     "name": "stderr",
     "output_type": "stream",
     "text": [
      " 50%|████▉     | 157/316 [05:50<05:29,  2.07s/it]"
     ]
    },
    {
     "name": "stdout",
     "output_type": "stream",
     "text": [
      "d_listの大きさ: 7719\n",
      "https://suumo.jp/chintai/tokyo/sc_ota/mansion/?page=158\n"
     ]
    },
    {
     "name": "stderr",
     "output_type": "stream",
     "text": [
      " 50%|█████     | 158/316 [05:52<05:31,  2.10s/it]"
     ]
    },
    {
     "name": "stdout",
     "output_type": "stream",
     "text": [
      "d_listの大きさ: 7754\n",
      "https://suumo.jp/chintai/tokyo/sc_ota/mansion/?page=159\n"
     ]
    },
    {
     "name": "stderr",
     "output_type": "stream",
     "text": [
      " 50%|█████     | 159/316 [05:54<05:38,  2.16s/it]"
     ]
    },
    {
     "name": "stdout",
     "output_type": "stream",
     "text": [
      "d_listの大きさ: 7890\n",
      "https://suumo.jp/chintai/tokyo/sc_ota/mansion/?page=160\n"
     ]
    },
    {
     "name": "stderr",
     "output_type": "stream",
     "text": [
      " 51%|█████     | 160/316 [05:56<05:31,  2.13s/it]"
     ]
    },
    {
     "name": "stdout",
     "output_type": "stream",
     "text": [
      "d_listの大きさ: 7923\n",
      "https://suumo.jp/chintai/tokyo/sc_ota/mansion/?page=161\n"
     ]
    },
    {
     "name": "stderr",
     "output_type": "stream",
     "text": [
      " 51%|█████     | 161/316 [05:58<05:30,  2.13s/it]"
     ]
    },
    {
     "name": "stdout",
     "output_type": "stream",
     "text": [
      "d_listの大きさ: 7958\n",
      "https://suumo.jp/chintai/tokyo/sc_ota/mansion/?page=162\n"
     ]
    },
    {
     "name": "stderr",
     "output_type": "stream",
     "text": [
      " 51%|█████▏    | 162/316 [06:00<05:29,  2.14s/it]"
     ]
    },
    {
     "name": "stdout",
     "output_type": "stream",
     "text": [
      "d_listの大きさ: 7996\n",
      "https://suumo.jp/chintai/tokyo/sc_ota/mansion/?page=163\n"
     ]
    },
    {
     "name": "stderr",
     "output_type": "stream",
     "text": [
      " 52%|█████▏    | 163/316 [06:02<05:24,  2.12s/it]"
     ]
    },
    {
     "name": "stdout",
     "output_type": "stream",
     "text": [
      "d_listの大きさ: 8030\n",
      "https://suumo.jp/chintai/tokyo/sc_ota/mansion/?page=164\n"
     ]
    },
    {
     "name": "stderr",
     "output_type": "stream",
     "text": [
      " 52%|█████▏    | 164/316 [06:05<05:21,  2.12s/it]"
     ]
    },
    {
     "name": "stdout",
     "output_type": "stream",
     "text": [
      "d_listの大きさ: 8064\n",
      "https://suumo.jp/chintai/tokyo/sc_ota/mansion/?page=165\n"
     ]
    },
    {
     "name": "stderr",
     "output_type": "stream",
     "text": [
      " 52%|█████▏    | 165/316 [06:07<05:17,  2.10s/it]"
     ]
    },
    {
     "name": "stdout",
     "output_type": "stream",
     "text": [
      "d_listの大きさ: 8098\n",
      "https://suumo.jp/chintai/tokyo/sc_ota/mansion/?page=166\n"
     ]
    },
    {
     "name": "stderr",
     "output_type": "stream",
     "text": [
      " 53%|█████▎    | 166/316 [06:09<05:17,  2.12s/it]"
     ]
    },
    {
     "name": "stdout",
     "output_type": "stream",
     "text": [
      "d_listの大きさ: 8131\n",
      "https://suumo.jp/chintai/tokyo/sc_ota/mansion/?page=167\n"
     ]
    },
    {
     "name": "stderr",
     "output_type": "stream",
     "text": [
      " 53%|█████▎    | 167/316 [06:11<05:16,  2.13s/it]"
     ]
    },
    {
     "name": "stdout",
     "output_type": "stream",
     "text": [
      "d_listの大きさ: 8173\n",
      "https://suumo.jp/chintai/tokyo/sc_ota/mansion/?page=168\n"
     ]
    },
    {
     "name": "stderr",
     "output_type": "stream",
     "text": [
      " 53%|█████▎    | 168/316 [06:13<05:09,  2.09s/it]"
     ]
    },
    {
     "name": "stdout",
     "output_type": "stream",
     "text": [
      "d_listの大きさ: 8207\n",
      "https://suumo.jp/chintai/tokyo/sc_ota/mansion/?page=169\n"
     ]
    },
    {
     "name": "stderr",
     "output_type": "stream",
     "text": [
      " 53%|█████▎    | 169/316 [06:15<05:11,  2.12s/it]"
     ]
    },
    {
     "name": "stdout",
     "output_type": "stream",
     "text": [
      "d_listの大きさ: 8249\n",
      "https://suumo.jp/chintai/tokyo/sc_ota/mansion/?page=170\n"
     ]
    },
    {
     "name": "stderr",
     "output_type": "stream",
     "text": [
      " 54%|█████▍    | 170/316 [06:17<05:10,  2.13s/it]"
     ]
    },
    {
     "name": "stdout",
     "output_type": "stream",
     "text": [
      "d_listの大きさ: 8275\n",
      "https://suumo.jp/chintai/tokyo/sc_ota/mansion/?page=171\n"
     ]
    },
    {
     "name": "stderr",
     "output_type": "stream",
     "text": [
      " 54%|█████▍    | 171/316 [06:19<05:09,  2.13s/it]"
     ]
    },
    {
     "name": "stdout",
     "output_type": "stream",
     "text": [
      "d_listの大きさ: 8315\n",
      "https://suumo.jp/chintai/tokyo/sc_ota/mansion/?page=172\n"
     ]
    },
    {
     "name": "stderr",
     "output_type": "stream",
     "text": [
      " 54%|█████▍    | 172/316 [06:22<05:06,  2.13s/it]"
     ]
    },
    {
     "name": "stdout",
     "output_type": "stream",
     "text": [
      "d_listの大きさ: 8346\n",
      "https://suumo.jp/chintai/tokyo/sc_ota/mansion/?page=173\n"
     ]
    },
    {
     "name": "stderr",
     "output_type": "stream",
     "text": [
      " 55%|█████▍    | 173/316 [06:24<05:02,  2.12s/it]"
     ]
    },
    {
     "name": "stdout",
     "output_type": "stream",
     "text": [
      "d_listの大きさ: 8393\n",
      "https://suumo.jp/chintai/tokyo/sc_ota/mansion/?page=174\n"
     ]
    },
    {
     "name": "stderr",
     "output_type": "stream",
     "text": [
      " 55%|█████▌    | 174/316 [06:26<04:59,  2.11s/it]"
     ]
    },
    {
     "name": "stdout",
     "output_type": "stream",
     "text": [
      "d_listの大きさ: 8440\n",
      "https://suumo.jp/chintai/tokyo/sc_ota/mansion/?page=175\n"
     ]
    },
    {
     "name": "stderr",
     "output_type": "stream",
     "text": [
      " 55%|█████▌    | 175/316 [06:28<04:55,  2.09s/it]"
     ]
    },
    {
     "name": "stdout",
     "output_type": "stream",
     "text": [
      "d_listの大きさ: 8469\n",
      "https://suumo.jp/chintai/tokyo/sc_ota/mansion/?page=176\n"
     ]
    },
    {
     "name": "stderr",
     "output_type": "stream",
     "text": [
      " 56%|█████▌    | 176/316 [06:30<04:52,  2.09s/it]"
     ]
    },
    {
     "name": "stdout",
     "output_type": "stream",
     "text": [
      "d_listの大きさ: 8500\n",
      "https://suumo.jp/chintai/tokyo/sc_ota/mansion/?page=177\n"
     ]
    },
    {
     "name": "stderr",
     "output_type": "stream",
     "text": [
      " 56%|█████▌    | 177/316 [06:32<04:48,  2.07s/it]"
     ]
    },
    {
     "name": "stdout",
     "output_type": "stream",
     "text": [
      "d_listの大きさ: 8526\n",
      "https://suumo.jp/chintai/tokyo/sc_ota/mansion/?page=178\n"
     ]
    },
    {
     "name": "stderr",
     "output_type": "stream",
     "text": [
      " 56%|█████▋    | 178/316 [06:34<04:50,  2.10s/it]"
     ]
    },
    {
     "name": "stdout",
     "output_type": "stream",
     "text": [
      "d_listの大きさ: 8563\n",
      "https://suumo.jp/chintai/tokyo/sc_ota/mansion/?page=179\n"
     ]
    },
    {
     "name": "stderr",
     "output_type": "stream",
     "text": [
      " 57%|█████▋    | 179/316 [06:39<06:39,  2.92s/it]"
     ]
    },
    {
     "name": "stdout",
     "output_type": "stream",
     "text": [
      "d_listの大きさ: 8606\n",
      "https://suumo.jp/chintai/tokyo/sc_ota/mansion/?page=180\n"
     ]
    },
    {
     "name": "stderr",
     "output_type": "stream",
     "text": [
      " 57%|█████▋    | 180/316 [06:41<06:04,  2.68s/it]"
     ]
    },
    {
     "name": "stdout",
     "output_type": "stream",
     "text": [
      "d_listの大きさ: 8636\n",
      "https://suumo.jp/chintai/tokyo/sc_ota/mansion/?page=181\n"
     ]
    },
    {
     "name": "stderr",
     "output_type": "stream",
     "text": [
      " 57%|█████▋    | 181/316 [06:43<05:42,  2.54s/it]"
     ]
    },
    {
     "name": "stdout",
     "output_type": "stream",
     "text": [
      "d_listの大きさ: 8669\n",
      "https://suumo.jp/chintai/tokyo/sc_ota/mansion/?page=182\n"
     ]
    },
    {
     "name": "stderr",
     "output_type": "stream",
     "text": [
      " 58%|█████▊    | 182/316 [06:45<05:22,  2.41s/it]"
     ]
    },
    {
     "name": "stdout",
     "output_type": "stream",
     "text": [
      "d_listの大きさ: 8704\n",
      "https://suumo.jp/chintai/tokyo/sc_ota/mansion/?page=183\n"
     ]
    },
    {
     "name": "stderr",
     "output_type": "stream",
     "text": [
      " 58%|█████▊    | 183/316 [06:47<05:04,  2.29s/it]"
     ]
    },
    {
     "name": "stdout",
     "output_type": "stream",
     "text": [
      "d_listの大きさ: 8745\n",
      "https://suumo.jp/chintai/tokyo/sc_ota/mansion/?page=184\n"
     ]
    },
    {
     "name": "stderr",
     "output_type": "stream",
     "text": [
      " 58%|█████▊    | 184/316 [06:49<04:51,  2.21s/it]"
     ]
    },
    {
     "name": "stdout",
     "output_type": "stream",
     "text": [
      "d_listの大きさ: 8786\n",
      "https://suumo.jp/chintai/tokyo/sc_ota/mansion/?page=185\n"
     ]
    },
    {
     "name": "stderr",
     "output_type": "stream",
     "text": [
      " 59%|█████▊    | 185/316 [06:51<04:42,  2.16s/it]"
     ]
    },
    {
     "name": "stdout",
     "output_type": "stream",
     "text": [
      "d_listの大きさ: 8824\n",
      "https://suumo.jp/chintai/tokyo/sc_ota/mansion/?page=186\n"
     ]
    },
    {
     "name": "stderr",
     "output_type": "stream",
     "text": [
      " 59%|█████▉    | 186/316 [06:53<04:35,  2.12s/it]"
     ]
    },
    {
     "name": "stdout",
     "output_type": "stream",
     "text": [
      "d_listの大きさ: 8858\n",
      "https://suumo.jp/chintai/tokyo/sc_ota/mansion/?page=187\n"
     ]
    },
    {
     "name": "stderr",
     "output_type": "stream",
     "text": [
      " 59%|█████▉    | 187/316 [06:56<04:39,  2.16s/it]"
     ]
    },
    {
     "name": "stdout",
     "output_type": "stream",
     "text": [
      "d_listの大きさ: 8901\n",
      "https://suumo.jp/chintai/tokyo/sc_ota/mansion/?page=188\n"
     ]
    },
    {
     "name": "stderr",
     "output_type": "stream",
     "text": [
      " 59%|█████▉    | 188/316 [06:58<04:32,  2.13s/it]"
     ]
    },
    {
     "name": "stdout",
     "output_type": "stream",
     "text": [
      "d_listの大きさ: 8944\n",
      "https://suumo.jp/chintai/tokyo/sc_ota/mansion/?page=189\n"
     ]
    },
    {
     "name": "stderr",
     "output_type": "stream",
     "text": [
      " 60%|█████▉    | 189/316 [07:00<04:30,  2.13s/it]"
     ]
    },
    {
     "name": "stdout",
     "output_type": "stream",
     "text": [
      "d_listの大きさ: 8989\n",
      "https://suumo.jp/chintai/tokyo/sc_ota/mansion/?page=190\n"
     ]
    },
    {
     "name": "stderr",
     "output_type": "stream",
     "text": [
      " 60%|██████    | 190/316 [07:02<04:29,  2.14s/it]"
     ]
    },
    {
     "name": "stdout",
     "output_type": "stream",
     "text": [
      "d_listの大きさ: 9031\n",
      "https://suumo.jp/chintai/tokyo/sc_ota/mansion/?page=191\n"
     ]
    },
    {
     "name": "stderr",
     "output_type": "stream",
     "text": [
      " 60%|██████    | 191/316 [07:04<04:26,  2.13s/it]"
     ]
    },
    {
     "name": "stdout",
     "output_type": "stream",
     "text": [
      "d_listの大きさ: 9061\n",
      "https://suumo.jp/chintai/tokyo/sc_ota/mansion/?page=192\n"
     ]
    },
    {
     "name": "stderr",
     "output_type": "stream",
     "text": [
      " 61%|██████    | 192/316 [07:06<04:18,  2.09s/it]"
     ]
    },
    {
     "name": "stdout",
     "output_type": "stream",
     "text": [
      "d_listの大きさ: 9093\n",
      "https://suumo.jp/chintai/tokyo/sc_ota/mansion/?page=193\n"
     ]
    },
    {
     "name": "stderr",
     "output_type": "stream",
     "text": [
      " 61%|██████    | 193/316 [07:08<04:11,  2.05s/it]"
     ]
    },
    {
     "name": "stdout",
     "output_type": "stream",
     "text": [
      "d_listの大きさ: 9122\n",
      "https://suumo.jp/chintai/tokyo/sc_ota/mansion/?page=194\n"
     ]
    },
    {
     "name": "stderr",
     "output_type": "stream",
     "text": [
      " 61%|██████▏   | 194/316 [07:10<04:05,  2.01s/it]"
     ]
    },
    {
     "name": "stdout",
     "output_type": "stream",
     "text": [
      "d_listの大きさ: 9149\n",
      "https://suumo.jp/chintai/tokyo/sc_ota/mansion/?page=195\n"
     ]
    },
    {
     "name": "stderr",
     "output_type": "stream",
     "text": [
      " 62%|██████▏   | 195/316 [07:12<04:04,  2.02s/it]"
     ]
    },
    {
     "name": "stdout",
     "output_type": "stream",
     "text": [
      "d_listの大きさ: 9182\n",
      "https://suumo.jp/chintai/tokyo/sc_ota/mansion/?page=196\n"
     ]
    },
    {
     "name": "stderr",
     "output_type": "stream",
     "text": [
      " 62%|██████▏   | 196/316 [07:14<04:03,  2.03s/it]"
     ]
    },
    {
     "name": "stdout",
     "output_type": "stream",
     "text": [
      "d_listの大きさ: 9210\n",
      "https://suumo.jp/chintai/tokyo/sc_ota/mansion/?page=197\n"
     ]
    },
    {
     "name": "stderr",
     "output_type": "stream",
     "text": [
      " 62%|██████▏   | 197/316 [07:16<04:01,  2.03s/it]"
     ]
    },
    {
     "name": "stdout",
     "output_type": "stream",
     "text": [
      "d_listの大きさ: 9250\n",
      "https://suumo.jp/chintai/tokyo/sc_ota/mansion/?page=198\n"
     ]
    },
    {
     "name": "stderr",
     "output_type": "stream",
     "text": [
      " 63%|██████▎   | 198/316 [07:18<04:05,  2.08s/it]"
     ]
    },
    {
     "name": "stdout",
     "output_type": "stream",
     "text": [
      "d_listの大きさ: 9308\n",
      "https://suumo.jp/chintai/tokyo/sc_ota/mansion/?page=199\n"
     ]
    },
    {
     "name": "stderr",
     "output_type": "stream",
     "text": [
      " 63%|██████▎   | 199/316 [07:20<04:05,  2.09s/it]"
     ]
    },
    {
     "name": "stdout",
     "output_type": "stream",
     "text": [
      "d_listの大きさ: 9359\n",
      "https://suumo.jp/chintai/tokyo/sc_ota/mansion/?page=200\n"
     ]
    },
    {
     "name": "stderr",
     "output_type": "stream",
     "text": [
      " 63%|██████▎   | 200/316 [07:23<04:01,  2.08s/it]"
     ]
    },
    {
     "name": "stdout",
     "output_type": "stream",
     "text": [
      "d_listの大きさ: 9389\n",
      "https://suumo.jp/chintai/tokyo/sc_ota/mansion/?page=201\n"
     ]
    },
    {
     "name": "stderr",
     "output_type": "stream",
     "text": [
      " 64%|██████▎   | 201/316 [07:24<03:54,  2.04s/it]"
     ]
    },
    {
     "name": "stdout",
     "output_type": "stream",
     "text": [
      "d_listの大きさ: 9424\n",
      "https://suumo.jp/chintai/tokyo/sc_ota/mansion/?page=202\n"
     ]
    },
    {
     "name": "stderr",
     "output_type": "stream",
     "text": [
      " 64%|██████▍   | 202/316 [07:26<03:52,  2.04s/it]"
     ]
    },
    {
     "name": "stdout",
     "output_type": "stream",
     "text": [
      "d_listの大きさ: 9456\n",
      "https://suumo.jp/chintai/tokyo/sc_ota/mansion/?page=203\n"
     ]
    },
    {
     "name": "stderr",
     "output_type": "stream",
     "text": [
      " 64%|██████▍   | 203/316 [07:29<03:50,  2.04s/it]"
     ]
    },
    {
     "name": "stdout",
     "output_type": "stream",
     "text": [
      "d_listの大きさ: 9506\n",
      "https://suumo.jp/chintai/tokyo/sc_ota/mansion/?page=204\n"
     ]
    },
    {
     "name": "stderr",
     "output_type": "stream",
     "text": [
      " 65%|██████▍   | 204/316 [07:31<03:49,  2.05s/it]"
     ]
    },
    {
     "name": "stdout",
     "output_type": "stream",
     "text": [
      "d_listの大きさ: 9543\n",
      "https://suumo.jp/chintai/tokyo/sc_ota/mansion/?page=205\n"
     ]
    },
    {
     "name": "stderr",
     "output_type": "stream",
     "text": [
      " 65%|██████▍   | 205/316 [07:33<03:50,  2.08s/it]"
     ]
    },
    {
     "name": "stdout",
     "output_type": "stream",
     "text": [
      "d_listの大きさ: 9586\n",
      "https://suumo.jp/chintai/tokyo/sc_ota/mansion/?page=206\n"
     ]
    },
    {
     "name": "stderr",
     "output_type": "stream",
     "text": [
      " 65%|██████▌   | 206/316 [07:35<03:50,  2.10s/it]"
     ]
    },
    {
     "name": "stdout",
     "output_type": "stream",
     "text": [
      "d_listの大きさ: 9622\n",
      "https://suumo.jp/chintai/tokyo/sc_ota/mansion/?page=207\n"
     ]
    },
    {
     "name": "stderr",
     "output_type": "stream",
     "text": [
      " 66%|██████▌   | 207/316 [07:37<03:50,  2.11s/it]"
     ]
    },
    {
     "name": "stdout",
     "output_type": "stream",
     "text": [
      "d_listの大きさ: 9643\n",
      "https://suumo.jp/chintai/tokyo/sc_ota/mansion/?page=208\n"
     ]
    },
    {
     "name": "stderr",
     "output_type": "stream",
     "text": [
      " 66%|██████▌   | 208/316 [07:39<03:44,  2.08s/it]"
     ]
    },
    {
     "name": "stdout",
     "output_type": "stream",
     "text": [
      "d_listの大きさ: 9668\n",
      "https://suumo.jp/chintai/tokyo/sc_ota/mansion/?page=209\n"
     ]
    },
    {
     "name": "stderr",
     "output_type": "stream",
     "text": [
      " 66%|██████▌   | 209/316 [07:41<03:43,  2.09s/it]"
     ]
    },
    {
     "name": "stdout",
     "output_type": "stream",
     "text": [
      "d_listの大きさ: 9700\n",
      "https://suumo.jp/chintai/tokyo/sc_ota/mansion/?page=210\n"
     ]
    },
    {
     "name": "stderr",
     "output_type": "stream",
     "text": [
      " 66%|██████▋   | 210/316 [07:43<03:43,  2.11s/it]"
     ]
    },
    {
     "name": "stdout",
     "output_type": "stream",
     "text": [
      "d_listの大きさ: 9727\n",
      "https://suumo.jp/chintai/tokyo/sc_ota/mansion/?page=211\n"
     ]
    },
    {
     "name": "stderr",
     "output_type": "stream",
     "text": [
      " 67%|██████▋   | 211/316 [07:45<03:38,  2.08s/it]"
     ]
    },
    {
     "name": "stdout",
     "output_type": "stream",
     "text": [
      "d_listの大きさ: 9769\n",
      "https://suumo.jp/chintai/tokyo/sc_ota/mansion/?page=212\n"
     ]
    },
    {
     "name": "stderr",
     "output_type": "stream",
     "text": [
      " 67%|██████▋   | 212/316 [07:47<03:33,  2.05s/it]"
     ]
    },
    {
     "name": "stdout",
     "output_type": "stream",
     "text": [
      "d_listの大きさ: 9794\n",
      "https://suumo.jp/chintai/tokyo/sc_ota/mansion/?page=213\n"
     ]
    },
    {
     "name": "stderr",
     "output_type": "stream",
     "text": [
      " 67%|██████▋   | 213/316 [07:49<03:30,  2.05s/it]"
     ]
    },
    {
     "name": "stdout",
     "output_type": "stream",
     "text": [
      "d_listの大きさ: 9835\n",
      "https://suumo.jp/chintai/tokyo/sc_ota/mansion/?page=214\n"
     ]
    },
    {
     "name": "stderr",
     "output_type": "stream",
     "text": [
      " 68%|██████▊   | 214/316 [07:52<03:36,  2.12s/it]"
     ]
    },
    {
     "name": "stdout",
     "output_type": "stream",
     "text": [
      "d_listの大きさ: 9862\n",
      "https://suumo.jp/chintai/tokyo/sc_ota/mansion/?page=215\n"
     ]
    },
    {
     "name": "stderr",
     "output_type": "stream",
     "text": [
      " 68%|██████▊   | 215/316 [07:54<03:39,  2.18s/it]"
     ]
    },
    {
     "name": "stdout",
     "output_type": "stream",
     "text": [
      "d_listの大きさ: 9884\n",
      "https://suumo.jp/chintai/tokyo/sc_ota/mansion/?page=216\n"
     ]
    },
    {
     "name": "stderr",
     "output_type": "stream",
     "text": [
      " 68%|██████▊   | 216/316 [07:56<03:34,  2.14s/it]"
     ]
    },
    {
     "name": "stdout",
     "output_type": "stream",
     "text": [
      "d_listの大きさ: 9909\n",
      "https://suumo.jp/chintai/tokyo/sc_ota/mansion/?page=217\n"
     ]
    },
    {
     "name": "stderr",
     "output_type": "stream",
     "text": [
      " 69%|██████▊   | 217/316 [07:58<03:29,  2.11s/it]"
     ]
    },
    {
     "name": "stdout",
     "output_type": "stream",
     "text": [
      "d_listの大きさ: 9942\n",
      "https://suumo.jp/chintai/tokyo/sc_ota/mansion/?page=218\n"
     ]
    },
    {
     "name": "stderr",
     "output_type": "stream",
     "text": [
      " 69%|██████▉   | 218/316 [08:00<03:25,  2.09s/it]"
     ]
    },
    {
     "name": "stdout",
     "output_type": "stream",
     "text": [
      "d_listの大きさ: 9970\n",
      "https://suumo.jp/chintai/tokyo/sc_ota/mansion/?page=219\n"
     ]
    },
    {
     "name": "stderr",
     "output_type": "stream",
     "text": [
      " 69%|██████▉   | 219/316 [08:02<03:23,  2.10s/it]"
     ]
    },
    {
     "name": "stdout",
     "output_type": "stream",
     "text": [
      "d_listの大きさ: 10021\n",
      "https://suumo.jp/chintai/tokyo/sc_ota/mansion/?page=220\n"
     ]
    },
    {
     "name": "stderr",
     "output_type": "stream",
     "text": [
      " 70%|██████▉   | 220/316 [08:04<03:20,  2.09s/it]"
     ]
    },
    {
     "name": "stdout",
     "output_type": "stream",
     "text": [
      "d_listの大きさ: 10047\n",
      "https://suumo.jp/chintai/tokyo/sc_ota/mansion/?page=221\n"
     ]
    },
    {
     "name": "stderr",
     "output_type": "stream",
     "text": [
      " 70%|██████▉   | 221/316 [08:06<03:17,  2.08s/it]"
     ]
    },
    {
     "name": "stdout",
     "output_type": "stream",
     "text": [
      "d_listの大きさ: 10083\n",
      "https://suumo.jp/chintai/tokyo/sc_ota/mansion/?page=222\n"
     ]
    },
    {
     "name": "stderr",
     "output_type": "stream",
     "text": [
      " 70%|███████   | 222/316 [08:08<03:12,  2.05s/it]"
     ]
    },
    {
     "name": "stdout",
     "output_type": "stream",
     "text": [
      "d_listの大きさ: 10106\n",
      "https://suumo.jp/chintai/tokyo/sc_ota/mansion/?page=223\n"
     ]
    },
    {
     "name": "stderr",
     "output_type": "stream",
     "text": [
      " 71%|███████   | 223/316 [08:10<03:10,  2.04s/it]"
     ]
    },
    {
     "name": "stdout",
     "output_type": "stream",
     "text": [
      "d_listの大きさ: 10173\n",
      "https://suumo.jp/chintai/tokyo/sc_ota/mansion/?page=224\n"
     ]
    },
    {
     "name": "stderr",
     "output_type": "stream",
     "text": [
      " 71%|███████   | 224/316 [08:12<03:10,  2.07s/it]"
     ]
    },
    {
     "name": "stdout",
     "output_type": "stream",
     "text": [
      "d_listの大きさ: 10215\n",
      "https://suumo.jp/chintai/tokyo/sc_ota/mansion/?page=225\n"
     ]
    },
    {
     "name": "stderr",
     "output_type": "stream",
     "text": [
      " 71%|███████   | 225/316 [08:15<03:08,  2.07s/it]"
     ]
    },
    {
     "name": "stdout",
     "output_type": "stream",
     "text": [
      "d_listの大きさ: 10241\n",
      "https://suumo.jp/chintai/tokyo/sc_ota/mansion/?page=226\n"
     ]
    },
    {
     "name": "stderr",
     "output_type": "stream",
     "text": [
      " 72%|███████▏  | 226/316 [08:17<03:04,  2.05s/it]"
     ]
    },
    {
     "name": "stdout",
     "output_type": "stream",
     "text": [
      "d_listの大きさ: 10271\n",
      "https://suumo.jp/chintai/tokyo/sc_ota/mansion/?page=227\n"
     ]
    },
    {
     "name": "stderr",
     "output_type": "stream",
     "text": [
      " 72%|███████▏  | 227/316 [08:19<03:05,  2.09s/it]"
     ]
    },
    {
     "name": "stdout",
     "output_type": "stream",
     "text": [
      "d_listの大きさ: 10300\n",
      "https://suumo.jp/chintai/tokyo/sc_ota/mansion/?page=228\n"
     ]
    },
    {
     "name": "stderr",
     "output_type": "stream",
     "text": [
      " 72%|███████▏  | 228/316 [08:21<03:01,  2.06s/it]"
     ]
    },
    {
     "name": "stdout",
     "output_type": "stream",
     "text": [
      "d_listの大きさ: 10332\n",
      "https://suumo.jp/chintai/tokyo/sc_ota/mansion/?page=229\n"
     ]
    },
    {
     "name": "stderr",
     "output_type": "stream",
     "text": [
      " 72%|███████▏  | 229/316 [08:23<03:00,  2.07s/it]"
     ]
    },
    {
     "name": "stdout",
     "output_type": "stream",
     "text": [
      "d_listの大きさ: 10368\n",
      "https://suumo.jp/chintai/tokyo/sc_ota/mansion/?page=230\n"
     ]
    },
    {
     "name": "stderr",
     "output_type": "stream",
     "text": [
      " 73%|███████▎  | 230/316 [08:25<02:57,  2.06s/it]"
     ]
    },
    {
     "name": "stdout",
     "output_type": "stream",
     "text": [
      "d_listの大きさ: 10399\n",
      "https://suumo.jp/chintai/tokyo/sc_ota/mansion/?page=231\n"
     ]
    },
    {
     "name": "stderr",
     "output_type": "stream",
     "text": [
      " 73%|███████▎  | 231/316 [08:27<02:54,  2.05s/it]"
     ]
    },
    {
     "name": "stdout",
     "output_type": "stream",
     "text": [
      "d_listの大きさ: 10429\n",
      "https://suumo.jp/chintai/tokyo/sc_ota/mansion/?page=232\n"
     ]
    },
    {
     "name": "stderr",
     "output_type": "stream",
     "text": [
      " 73%|███████▎  | 232/316 [08:33<04:26,  3.18s/it]"
     ]
    },
    {
     "name": "stdout",
     "output_type": "stream",
     "text": [
      "d_listの大きさ: 10454\n",
      "https://suumo.jp/chintai/tokyo/sc_ota/mansion/?page=233\n"
     ]
    },
    {
     "name": "stderr",
     "output_type": "stream",
     "text": [
      " 74%|███████▎  | 233/316 [08:35<03:54,  2.83s/it]"
     ]
    },
    {
     "name": "stdout",
     "output_type": "stream",
     "text": [
      "d_listの大きさ: 10478\n",
      "https://suumo.jp/chintai/tokyo/sc_ota/mansion/?page=234\n"
     ]
    },
    {
     "name": "stderr",
     "output_type": "stream",
     "text": [
      " 74%|███████▍  | 234/316 [08:37<03:35,  2.63s/it]"
     ]
    },
    {
     "name": "stdout",
     "output_type": "stream",
     "text": [
      "d_listの大きさ: 10505\n",
      "https://suumo.jp/chintai/tokyo/sc_ota/mansion/?page=235\n"
     ]
    },
    {
     "name": "stderr",
     "output_type": "stream",
     "text": [
      " 74%|███████▍  | 235/316 [08:39<03:18,  2.45s/it]"
     ]
    },
    {
     "name": "stdout",
     "output_type": "stream",
     "text": [
      "d_listの大きさ: 10537\n",
      "https://suumo.jp/chintai/tokyo/sc_ota/mansion/?page=236\n"
     ]
    },
    {
     "name": "stderr",
     "output_type": "stream",
     "text": [
      " 75%|███████▍  | 236/316 [08:41<03:04,  2.31s/it]"
     ]
    },
    {
     "name": "stdout",
     "output_type": "stream",
     "text": [
      "d_listの大きさ: 10568\n",
      "https://suumo.jp/chintai/tokyo/sc_ota/mansion/?page=237\n"
     ]
    },
    {
     "name": "stderr",
     "output_type": "stream",
     "text": [
      " 75%|███████▌  | 237/316 [08:43<02:53,  2.20s/it]"
     ]
    },
    {
     "name": "stdout",
     "output_type": "stream",
     "text": [
      "d_listの大きさ: 10590\n",
      "https://suumo.jp/chintai/tokyo/sc_ota/mansion/?page=238\n"
     ]
    },
    {
     "name": "stderr",
     "output_type": "stream",
     "text": [
      " 75%|███████▌  | 238/316 [08:45<02:46,  2.14s/it]"
     ]
    },
    {
     "name": "stdout",
     "output_type": "stream",
     "text": [
      "d_listの大きさ: 10617\n",
      "https://suumo.jp/chintai/tokyo/sc_ota/mansion/?page=239\n"
     ]
    },
    {
     "name": "stderr",
     "output_type": "stream",
     "text": [
      " 76%|███████▌  | 239/316 [08:47<02:42,  2.12s/it]"
     ]
    },
    {
     "name": "stdout",
     "output_type": "stream",
     "text": [
      "d_listの大きさ: 10645\n",
      "https://suumo.jp/chintai/tokyo/sc_ota/mansion/?page=240\n"
     ]
    },
    {
     "name": "stderr",
     "output_type": "stream",
     "text": [
      " 76%|███████▌  | 240/316 [08:49<02:39,  2.10s/it]"
     ]
    },
    {
     "name": "stdout",
     "output_type": "stream",
     "text": [
      "d_listの大きさ: 10672\n",
      "https://suumo.jp/chintai/tokyo/sc_ota/mansion/?page=241\n"
     ]
    },
    {
     "name": "stderr",
     "output_type": "stream",
     "text": [
      " 76%|███████▋  | 241/316 [08:51<02:34,  2.06s/it]"
     ]
    },
    {
     "name": "stdout",
     "output_type": "stream",
     "text": [
      "d_listの大きさ: 10696\n",
      "https://suumo.jp/chintai/tokyo/sc_ota/mansion/?page=242\n"
     ]
    },
    {
     "name": "stderr",
     "output_type": "stream",
     "text": [
      " 77%|███████▋  | 242/316 [08:53<02:30,  2.03s/it]"
     ]
    },
    {
     "name": "stdout",
     "output_type": "stream",
     "text": [
      "d_listの大きさ: 10719\n",
      "https://suumo.jp/chintai/tokyo/sc_ota/mansion/?page=243\n"
     ]
    },
    {
     "name": "stderr",
     "output_type": "stream",
     "text": [
      " 77%|███████▋  | 243/316 [08:55<02:26,  2.01s/it]"
     ]
    },
    {
     "name": "stdout",
     "output_type": "stream",
     "text": [
      "d_listの大きさ: 10751\n",
      "https://suumo.jp/chintai/tokyo/sc_ota/mansion/?page=244\n"
     ]
    },
    {
     "name": "stderr",
     "output_type": "stream",
     "text": [
      " 77%|███████▋  | 244/316 [08:57<02:30,  2.08s/it]"
     ]
    },
    {
     "name": "stdout",
     "output_type": "stream",
     "text": [
      "d_listの大きさ: 10781\n",
      "https://suumo.jp/chintai/tokyo/sc_ota/mansion/?page=245\n"
     ]
    },
    {
     "name": "stderr",
     "output_type": "stream",
     "text": [
      " 78%|███████▊  | 245/316 [09:00<02:36,  2.20s/it]"
     ]
    },
    {
     "name": "stdout",
     "output_type": "stream",
     "text": [
      "d_listの大きさ: 10809\n",
      "https://suumo.jp/chintai/tokyo/sc_ota/mansion/?page=246\n"
     ]
    },
    {
     "name": "stderr",
     "output_type": "stream",
     "text": [
      " 78%|███████▊  | 246/316 [09:02<02:29,  2.14s/it]"
     ]
    },
    {
     "name": "stdout",
     "output_type": "stream",
     "text": [
      "d_listの大きさ: 10832\n",
      "https://suumo.jp/chintai/tokyo/sc_ota/mansion/?page=247\n"
     ]
    },
    {
     "name": "stderr",
     "output_type": "stream",
     "text": [
      " 78%|███████▊  | 247/316 [09:04<02:26,  2.12s/it]"
     ]
    },
    {
     "name": "stdout",
     "output_type": "stream",
     "text": [
      "d_listの大きさ: 10857\n",
      "https://suumo.jp/chintai/tokyo/sc_ota/mansion/?page=248\n"
     ]
    },
    {
     "name": "stderr",
     "output_type": "stream",
     "text": [
      " 78%|███████▊  | 248/316 [09:06<02:23,  2.11s/it]"
     ]
    },
    {
     "name": "stdout",
     "output_type": "stream",
     "text": [
      "d_listの大きさ: 10887\n",
      "https://suumo.jp/chintai/tokyo/sc_ota/mansion/?page=249\n"
     ]
    },
    {
     "name": "stderr",
     "output_type": "stream",
     "text": [
      " 79%|███████▉  | 249/316 [09:08<02:20,  2.09s/it]"
     ]
    },
    {
     "name": "stdout",
     "output_type": "stream",
     "text": [
      "d_listの大きさ: 10913\n",
      "https://suumo.jp/chintai/tokyo/sc_ota/mansion/?page=250\n"
     ]
    },
    {
     "name": "stderr",
     "output_type": "stream",
     "text": [
      " 79%|███████▉  | 250/316 [09:10<02:17,  2.08s/it]"
     ]
    },
    {
     "name": "stdout",
     "output_type": "stream",
     "text": [
      "d_listの大きさ: 10946\n",
      "https://suumo.jp/chintai/tokyo/sc_ota/mansion/?page=251\n"
     ]
    },
    {
     "name": "stderr",
     "output_type": "stream",
     "text": [
      " 79%|███████▉  | 251/316 [09:12<02:16,  2.10s/it]"
     ]
    },
    {
     "name": "stdout",
     "output_type": "stream",
     "text": [
      "d_listの大きさ: 10975\n",
      "https://suumo.jp/chintai/tokyo/sc_ota/mansion/?page=252\n"
     ]
    },
    {
     "name": "stderr",
     "output_type": "stream",
     "text": [
      " 80%|███████▉  | 252/316 [09:14<02:13,  2.08s/it]"
     ]
    },
    {
     "name": "stdout",
     "output_type": "stream",
     "text": [
      "d_listの大きさ: 11009\n",
      "https://suumo.jp/chintai/tokyo/sc_ota/mansion/?page=253\n"
     ]
    },
    {
     "name": "stderr",
     "output_type": "stream",
     "text": [
      " 80%|████████  | 253/316 [09:16<02:08,  2.04s/it]"
     ]
    },
    {
     "name": "stdout",
     "output_type": "stream",
     "text": [
      "d_listの大きさ: 11034\n",
      "https://suumo.jp/chintai/tokyo/sc_ota/mansion/?page=254\n"
     ]
    },
    {
     "name": "stderr",
     "output_type": "stream",
     "text": [
      " 80%|████████  | 254/316 [09:18<02:04,  2.01s/it]"
     ]
    },
    {
     "name": "stdout",
     "output_type": "stream",
     "text": [
      "d_listの大きさ: 11056\n",
      "https://suumo.jp/chintai/tokyo/sc_ota/mansion/?page=255\n"
     ]
    },
    {
     "name": "stderr",
     "output_type": "stream",
     "text": [
      " 81%|████████  | 255/316 [09:20<02:02,  2.01s/it]"
     ]
    },
    {
     "name": "stdout",
     "output_type": "stream",
     "text": [
      "d_listの大きさ: 11085\n",
      "https://suumo.jp/chintai/tokyo/sc_ota/mansion/?page=256\n"
     ]
    },
    {
     "name": "stderr",
     "output_type": "stream",
     "text": [
      " 81%|████████  | 256/316 [09:22<02:00,  2.02s/it]"
     ]
    },
    {
     "name": "stdout",
     "output_type": "stream",
     "text": [
      "d_listの大きさ: 11108\n",
      "https://suumo.jp/chintai/tokyo/sc_ota/mansion/?page=257\n"
     ]
    },
    {
     "name": "stderr",
     "output_type": "stream",
     "text": [
      " 81%|████████▏ | 257/316 [09:24<01:58,  2.01s/it]"
     ]
    },
    {
     "name": "stdout",
     "output_type": "stream",
     "text": [
      "d_listの大きさ: 11135\n",
      "https://suumo.jp/chintai/tokyo/sc_ota/mansion/?page=258\n"
     ]
    },
    {
     "name": "stderr",
     "output_type": "stream",
     "text": [
      " 82%|████████▏ | 258/316 [09:26<01:56,  2.01s/it]"
     ]
    },
    {
     "name": "stdout",
     "output_type": "stream",
     "text": [
      "d_listの大きさ: 11156\n",
      "https://suumo.jp/chintai/tokyo/sc_ota/mansion/?page=259\n"
     ]
    },
    {
     "name": "stderr",
     "output_type": "stream",
     "text": [
      " 82%|████████▏ | 259/316 [09:28<01:57,  2.06s/it]"
     ]
    },
    {
     "name": "stdout",
     "output_type": "stream",
     "text": [
      "d_listの大きさ: 11177\n",
      "https://suumo.jp/chintai/tokyo/sc_ota/mansion/?page=260\n"
     ]
    },
    {
     "name": "stderr",
     "output_type": "stream",
     "text": [
      " 82%|████████▏ | 260/316 [09:30<01:54,  2.04s/it]"
     ]
    },
    {
     "name": "stdout",
     "output_type": "stream",
     "text": [
      "d_listの大きさ: 11209\n",
      "https://suumo.jp/chintai/tokyo/sc_ota/mansion/?page=261\n"
     ]
    },
    {
     "name": "stderr",
     "output_type": "stream",
     "text": [
      " 83%|████████▎ | 261/316 [09:32<01:51,  2.02s/it]"
     ]
    },
    {
     "name": "stdout",
     "output_type": "stream",
     "text": [
      "d_listの大きさ: 11235\n",
      "https://suumo.jp/chintai/tokyo/sc_ota/mansion/?page=262\n"
     ]
    },
    {
     "name": "stderr",
     "output_type": "stream",
     "text": [
      " 83%|████████▎ | 262/316 [09:34<01:49,  2.03s/it]"
     ]
    },
    {
     "name": "stdout",
     "output_type": "stream",
     "text": [
      "d_listの大きさ: 11255\n",
      "https://suumo.jp/chintai/tokyo/sc_ota/mansion/?page=263\n"
     ]
    },
    {
     "name": "stderr",
     "output_type": "stream",
     "text": [
      " 83%|████████▎ | 263/316 [09:36<01:46,  2.00s/it]"
     ]
    },
    {
     "name": "stdout",
     "output_type": "stream",
     "text": [
      "d_listの大きさ: 11279\n",
      "https://suumo.jp/chintai/tokyo/sc_ota/mansion/?page=264\n"
     ]
    },
    {
     "name": "stderr",
     "output_type": "stream",
     "text": [
      " 84%|████████▎ | 264/316 [09:38<01:43,  1.99s/it]"
     ]
    },
    {
     "name": "stdout",
     "output_type": "stream",
     "text": [
      "d_listの大きさ: 11306\n",
      "https://suumo.jp/chintai/tokyo/sc_ota/mansion/?page=265\n"
     ]
    },
    {
     "name": "stderr",
     "output_type": "stream",
     "text": [
      " 84%|████████▍ | 265/316 [09:40<01:41,  1.99s/it]"
     ]
    },
    {
     "name": "stdout",
     "output_type": "stream",
     "text": [
      "d_listの大きさ: 11328\n",
      "https://suumo.jp/chintai/tokyo/sc_ota/mansion/?page=266\n"
     ]
    },
    {
     "name": "stderr",
     "output_type": "stream",
     "text": [
      " 84%|████████▍ | 266/316 [09:42<01:39,  1.99s/it]"
     ]
    },
    {
     "name": "stdout",
     "output_type": "stream",
     "text": [
      "d_listの大きさ: 11352\n",
      "https://suumo.jp/chintai/tokyo/sc_ota/mansion/?page=267\n"
     ]
    },
    {
     "name": "stderr",
     "output_type": "stream",
     "text": [
      " 84%|████████▍ | 267/316 [09:44<01:37,  2.00s/it]"
     ]
    },
    {
     "name": "stdout",
     "output_type": "stream",
     "text": [
      "d_listの大きさ: 11380\n",
      "https://suumo.jp/chintai/tokyo/sc_ota/mansion/?page=268\n"
     ]
    },
    {
     "name": "stderr",
     "output_type": "stream",
     "text": [
      " 85%|████████▍ | 268/316 [09:46<01:35,  2.00s/it]"
     ]
    },
    {
     "name": "stdout",
     "output_type": "stream",
     "text": [
      "d_listの大きさ: 11408\n",
      "https://suumo.jp/chintai/tokyo/sc_ota/mansion/?page=269\n"
     ]
    },
    {
     "name": "stderr",
     "output_type": "stream",
     "text": [
      " 85%|████████▌ | 269/316 [09:48<01:33,  1.99s/it]"
     ]
    },
    {
     "name": "stdout",
     "output_type": "stream",
     "text": [
      "d_listの大きさ: 11433\n",
      "https://suumo.jp/chintai/tokyo/sc_ota/mansion/?page=270\n"
     ]
    },
    {
     "name": "stderr",
     "output_type": "stream",
     "text": [
      " 85%|████████▌ | 270/316 [09:50<01:32,  2.01s/it]"
     ]
    },
    {
     "name": "stdout",
     "output_type": "stream",
     "text": [
      "d_listの大きさ: 11461\n",
      "https://suumo.jp/chintai/tokyo/sc_ota/mansion/?page=271\n"
     ]
    },
    {
     "name": "stderr",
     "output_type": "stream",
     "text": [
      " 86%|████████▌ | 271/316 [09:52<01:30,  2.01s/it]"
     ]
    },
    {
     "name": "stdout",
     "output_type": "stream",
     "text": [
      "d_listの大きさ: 11484\n",
      "https://suumo.jp/chintai/tokyo/sc_ota/mansion/?page=272\n"
     ]
    },
    {
     "name": "stderr",
     "output_type": "stream",
     "text": [
      " 86%|████████▌ | 272/316 [09:54<01:27,  1.99s/it]"
     ]
    },
    {
     "name": "stdout",
     "output_type": "stream",
     "text": [
      "d_listの大きさ: 11510\n",
      "https://suumo.jp/chintai/tokyo/sc_ota/mansion/?page=273\n"
     ]
    },
    {
     "name": "stderr",
     "output_type": "stream",
     "text": [
      " 86%|████████▋ | 273/316 [09:56<01:26,  2.01s/it]"
     ]
    },
    {
     "name": "stdout",
     "output_type": "stream",
     "text": [
      "d_listの大きさ: 11535\n",
      "https://suumo.jp/chintai/tokyo/sc_ota/mansion/?page=274\n"
     ]
    },
    {
     "name": "stderr",
     "output_type": "stream",
     "text": [
      " 87%|████████▋ | 274/316 [09:58<01:25,  2.03s/it]"
     ]
    },
    {
     "name": "stdout",
     "output_type": "stream",
     "text": [
      "d_listの大きさ: 11564\n",
      "https://suumo.jp/chintai/tokyo/sc_ota/mansion/?page=275\n"
     ]
    },
    {
     "name": "stderr",
     "output_type": "stream",
     "text": [
      " 87%|████████▋ | 275/316 [10:00<01:22,  2.01s/it]"
     ]
    },
    {
     "name": "stdout",
     "output_type": "stream",
     "text": [
      "d_listの大きさ: 11588\n",
      "https://suumo.jp/chintai/tokyo/sc_ota/mansion/?page=276\n"
     ]
    },
    {
     "name": "stderr",
     "output_type": "stream",
     "text": [
      " 87%|████████▋ | 276/316 [10:02<01:19,  1.99s/it]"
     ]
    },
    {
     "name": "stdout",
     "output_type": "stream",
     "text": [
      "d_listの大きさ: 11614\n",
      "https://suumo.jp/chintai/tokyo/sc_ota/mansion/?page=277\n"
     ]
    },
    {
     "name": "stderr",
     "output_type": "stream",
     "text": [
      " 88%|████████▊ | 277/316 [10:04<01:17,  1.99s/it]"
     ]
    },
    {
     "name": "stdout",
     "output_type": "stream",
     "text": [
      "d_listの大きさ: 11638\n",
      "https://suumo.jp/chintai/tokyo/sc_ota/mansion/?page=278\n"
     ]
    },
    {
     "name": "stderr",
     "output_type": "stream",
     "text": [
      " 88%|████████▊ | 278/316 [10:06<01:15,  1.99s/it]"
     ]
    },
    {
     "name": "stdout",
     "output_type": "stream",
     "text": [
      "d_listの大きさ: 11661\n",
      "https://suumo.jp/chintai/tokyo/sc_ota/mansion/?page=279\n"
     ]
    },
    {
     "name": "stderr",
     "output_type": "stream",
     "text": [
      " 88%|████████▊ | 279/316 [10:08<01:14,  2.02s/it]"
     ]
    },
    {
     "name": "stdout",
     "output_type": "stream",
     "text": [
      "d_listの大きさ: 11694\n",
      "https://suumo.jp/chintai/tokyo/sc_ota/mansion/?page=280\n"
     ]
    },
    {
     "name": "stderr",
     "output_type": "stream",
     "text": [
      " 89%|████████▊ | 280/316 [10:10<01:12,  2.01s/it]"
     ]
    },
    {
     "name": "stdout",
     "output_type": "stream",
     "text": [
      "d_listの大きさ: 11719\n",
      "https://suumo.jp/chintai/tokyo/sc_ota/mansion/?page=281\n"
     ]
    },
    {
     "name": "stderr",
     "output_type": "stream",
     "text": [
      " 89%|████████▉ | 281/316 [10:12<01:10,  2.02s/it]"
     ]
    },
    {
     "name": "stdout",
     "output_type": "stream",
     "text": [
      "d_listの大きさ: 11745\n",
      "https://suumo.jp/chintai/tokyo/sc_ota/mansion/?page=282\n"
     ]
    },
    {
     "name": "stderr",
     "output_type": "stream",
     "text": [
      " 89%|████████▉ | 282/316 [10:14<01:09,  2.04s/it]"
     ]
    },
    {
     "name": "stdout",
     "output_type": "stream",
     "text": [
      "d_listの大きさ: 11770\n",
      "https://suumo.jp/chintai/tokyo/sc_ota/mansion/?page=283\n"
     ]
    },
    {
     "name": "stderr",
     "output_type": "stream",
     "text": [
      " 90%|████████▉ | 283/316 [10:16<01:07,  2.04s/it]"
     ]
    },
    {
     "name": "stdout",
     "output_type": "stream",
     "text": [
      "d_listの大きさ: 11803\n",
      "https://suumo.jp/chintai/tokyo/sc_ota/mansion/?page=284\n"
     ]
    },
    {
     "name": "stderr",
     "output_type": "stream",
     "text": [
      " 90%|████████▉ | 284/316 [10:18<01:04,  2.01s/it]"
     ]
    },
    {
     "name": "stdout",
     "output_type": "stream",
     "text": [
      "d_listの大きさ: 11829\n",
      "https://suumo.jp/chintai/tokyo/sc_ota/mansion/?page=285\n"
     ]
    },
    {
     "name": "stderr",
     "output_type": "stream",
     "text": [
      " 90%|█████████ | 285/316 [10:20<01:02,  2.03s/it]"
     ]
    },
    {
     "name": "stdout",
     "output_type": "stream",
     "text": [
      "d_listの大きさ: 11856\n",
      "https://suumo.jp/chintai/tokyo/sc_ota/mansion/?page=286\n"
     ]
    },
    {
     "name": "stderr",
     "output_type": "stream",
     "text": [
      " 91%|█████████ | 286/316 [10:22<01:02,  2.08s/it]"
     ]
    },
    {
     "name": "stdout",
     "output_type": "stream",
     "text": [
      "d_listの大きさ: 11882\n",
      "https://suumo.jp/chintai/tokyo/sc_ota/mansion/?page=287\n"
     ]
    },
    {
     "name": "stderr",
     "output_type": "stream",
     "text": [
      " 91%|█████████ | 287/316 [10:24<00:58,  2.03s/it]"
     ]
    },
    {
     "name": "stdout",
     "output_type": "stream",
     "text": [
      "d_listの大きさ: 11906\n",
      "https://suumo.jp/chintai/tokyo/sc_ota/mansion/?page=288\n"
     ]
    },
    {
     "name": "stderr",
     "output_type": "stream",
     "text": [
      " 91%|█████████ | 288/316 [10:27<00:58,  2.09s/it]"
     ]
    },
    {
     "name": "stdout",
     "output_type": "stream",
     "text": [
      "d_listの大きさ: 11929\n",
      "https://suumo.jp/chintai/tokyo/sc_ota/mansion/?page=289\n"
     ]
    },
    {
     "name": "stderr",
     "output_type": "stream",
     "text": [
      " 91%|█████████▏| 289/316 [10:29<00:56,  2.10s/it]"
     ]
    },
    {
     "name": "stdout",
     "output_type": "stream",
     "text": [
      "d_listの大きさ: 11961\n",
      "https://suumo.jp/chintai/tokyo/sc_ota/mansion/?page=290\n"
     ]
    },
    {
     "name": "stderr",
     "output_type": "stream",
     "text": [
      " 92%|█████████▏| 290/316 [10:31<00:54,  2.09s/it]"
     ]
    },
    {
     "name": "stdout",
     "output_type": "stream",
     "text": [
      "d_listの大きさ: 11990\n",
      "https://suumo.jp/chintai/tokyo/sc_ota/mansion/?page=291\n"
     ]
    },
    {
     "name": "stderr",
     "output_type": "stream",
     "text": [
      " 92%|█████████▏| 291/316 [10:33<00:51,  2.07s/it]"
     ]
    },
    {
     "name": "stdout",
     "output_type": "stream",
     "text": [
      "d_listの大きさ: 12013\n",
      "https://suumo.jp/chintai/tokyo/sc_ota/mansion/?page=292\n"
     ]
    },
    {
     "name": "stderr",
     "output_type": "stream",
     "text": [
      " 92%|█████████▏| 292/316 [10:35<00:49,  2.07s/it]"
     ]
    },
    {
     "name": "stdout",
     "output_type": "stream",
     "text": [
      "d_listの大きさ: 12043\n",
      "https://suumo.jp/chintai/tokyo/sc_ota/mansion/?page=293\n"
     ]
    },
    {
     "name": "stderr",
     "output_type": "stream",
     "text": [
      " 93%|█████████▎| 293/316 [10:37<00:47,  2.06s/it]"
     ]
    },
    {
     "name": "stdout",
     "output_type": "stream",
     "text": [
      "d_listの大きさ: 12070\n",
      "https://suumo.jp/chintai/tokyo/sc_ota/mansion/?page=294\n"
     ]
    },
    {
     "name": "stderr",
     "output_type": "stream",
     "text": [
      " 93%|█████████▎| 294/316 [10:39<00:44,  2.03s/it]"
     ]
    },
    {
     "name": "stdout",
     "output_type": "stream",
     "text": [
      "d_listの大きさ: 12101\n",
      "https://suumo.jp/chintai/tokyo/sc_ota/mansion/?page=295\n"
     ]
    },
    {
     "name": "stderr",
     "output_type": "stream",
     "text": [
      " 93%|█████████▎| 295/316 [10:41<00:42,  2.04s/it]"
     ]
    },
    {
     "name": "stdout",
     "output_type": "stream",
     "text": [
      "d_listの大きさ: 12130\n",
      "https://suumo.jp/chintai/tokyo/sc_ota/mansion/?page=296\n"
     ]
    },
    {
     "name": "stderr",
     "output_type": "stream",
     "text": [
      " 94%|█████████▎| 296/316 [10:43<00:41,  2.06s/it]"
     ]
    },
    {
     "name": "stdout",
     "output_type": "stream",
     "text": [
      "d_listの大きさ: 12162\n",
      "https://suumo.jp/chintai/tokyo/sc_ota/mansion/?page=297\n"
     ]
    },
    {
     "name": "stderr",
     "output_type": "stream",
     "text": [
      " 94%|█████████▍| 297/316 [10:45<00:39,  2.06s/it]"
     ]
    },
    {
     "name": "stdout",
     "output_type": "stream",
     "text": [
      "d_listの大きさ: 12185\n",
      "https://suumo.jp/chintai/tokyo/sc_ota/mansion/?page=298\n"
     ]
    },
    {
     "name": "stderr",
     "output_type": "stream",
     "text": [
      " 94%|█████████▍| 298/316 [10:47<00:37,  2.07s/it]"
     ]
    },
    {
     "name": "stdout",
     "output_type": "stream",
     "text": [
      "d_listの大きさ: 12220\n",
      "https://suumo.jp/chintai/tokyo/sc_ota/mansion/?page=299\n"
     ]
    },
    {
     "name": "stderr",
     "output_type": "stream",
     "text": [
      " 95%|█████████▍| 299/316 [10:49<00:34,  2.04s/it]"
     ]
    },
    {
     "name": "stdout",
     "output_type": "stream",
     "text": [
      "d_listの大きさ: 12244\n",
      "https://suumo.jp/chintai/tokyo/sc_ota/mansion/?page=300\n"
     ]
    },
    {
     "name": "stderr",
     "output_type": "stream",
     "text": [
      " 95%|█████████▍| 300/316 [10:51<00:32,  2.04s/it]"
     ]
    },
    {
     "name": "stdout",
     "output_type": "stream",
     "text": [
      "d_listの大きさ: 12274\n",
      "https://suumo.jp/chintai/tokyo/sc_ota/mansion/?page=301\n"
     ]
    },
    {
     "name": "stderr",
     "output_type": "stream",
     "text": [
      " 95%|█████████▌| 301/316 [10:53<00:30,  2.02s/it]"
     ]
    },
    {
     "name": "stdout",
     "output_type": "stream",
     "text": [
      "d_listの大きさ: 12298\n",
      "https://suumo.jp/chintai/tokyo/sc_ota/mansion/?page=302\n"
     ]
    },
    {
     "name": "stderr",
     "output_type": "stream",
     "text": [
      " 96%|█████████▌| 302/316 [10:56<00:29,  2.12s/it]"
     ]
    },
    {
     "name": "stdout",
     "output_type": "stream",
     "text": [
      "d_listの大きさ: 12322\n",
      "https://suumo.jp/chintai/tokyo/sc_ota/mansion/?page=303\n"
     ]
    },
    {
     "name": "stderr",
     "output_type": "stream",
     "text": [
      " 96%|█████████▌| 303/316 [10:58<00:27,  2.10s/it]"
     ]
    },
    {
     "name": "stdout",
     "output_type": "stream",
     "text": [
      "d_listの大きさ: 12349\n",
      "https://suumo.jp/chintai/tokyo/sc_ota/mansion/?page=304\n"
     ]
    },
    {
     "name": "stderr",
     "output_type": "stream",
     "text": [
      " 96%|█████████▌| 304/316 [11:00<00:25,  2.09s/it]"
     ]
    },
    {
     "name": "stdout",
     "output_type": "stream",
     "text": [
      "d_listの大きさ: 12374\n",
      "https://suumo.jp/chintai/tokyo/sc_ota/mansion/?page=305\n"
     ]
    },
    {
     "name": "stderr",
     "output_type": "stream",
     "text": [
      " 97%|█████████▋| 305/316 [11:06<00:37,  3.45s/it]"
     ]
    },
    {
     "name": "stdout",
     "output_type": "stream",
     "text": [
      "d_listの大きさ: 12404\n",
      "https://suumo.jp/chintai/tokyo/sc_ota/mansion/?page=306\n"
     ]
    },
    {
     "name": "stderr",
     "output_type": "stream",
     "text": [
      " 97%|█████████▋| 306/316 [11:08<00:30,  3.04s/it]"
     ]
    },
    {
     "name": "stdout",
     "output_type": "stream",
     "text": [
      "d_listの大きさ: 12438\n",
      "https://suumo.jp/chintai/tokyo/sc_ota/mansion/?page=307\n"
     ]
    },
    {
     "name": "stderr",
     "output_type": "stream",
     "text": [
      " 97%|█████████▋| 307/316 [11:10<00:24,  2.74s/it]"
     ]
    },
    {
     "name": "stdout",
     "output_type": "stream",
     "text": [
      "d_listの大きさ: 12465\n",
      "https://suumo.jp/chintai/tokyo/sc_ota/mansion/?page=308\n"
     ]
    },
    {
     "name": "stderr",
     "output_type": "stream",
     "text": [
      " 97%|█████████▋| 308/316 [11:12<00:20,  2.53s/it]"
     ]
    },
    {
     "name": "stdout",
     "output_type": "stream",
     "text": [
      "d_listの大きさ: 12490\n",
      "https://suumo.jp/chintai/tokyo/sc_ota/mansion/?page=309\n"
     ]
    },
    {
     "name": "stderr",
     "output_type": "stream",
     "text": [
      " 98%|█████████▊| 309/316 [11:15<00:16,  2.39s/it]"
     ]
    },
    {
     "name": "stdout",
     "output_type": "stream",
     "text": [
      "d_listの大きさ: 12514\n",
      "https://suumo.jp/chintai/tokyo/sc_ota/mansion/?page=310\n"
     ]
    },
    {
     "name": "stderr",
     "output_type": "stream",
     "text": [
      " 98%|█████████▊| 310/316 [11:17<00:14,  2.35s/it]"
     ]
    },
    {
     "name": "stdout",
     "output_type": "stream",
     "text": [
      "d_listの大きさ: 12538\n",
      "https://suumo.jp/chintai/tokyo/sc_ota/mansion/?page=311\n"
     ]
    },
    {
     "name": "stderr",
     "output_type": "stream",
     "text": [
      " 98%|█████████▊| 311/316 [11:19<00:11,  2.26s/it]"
     ]
    },
    {
     "name": "stdout",
     "output_type": "stream",
     "text": [
      "d_listの大きさ: 12566\n",
      "https://suumo.jp/chintai/tokyo/sc_ota/mansion/?page=312\n"
     ]
    },
    {
     "name": "stderr",
     "output_type": "stream",
     "text": [
      " 99%|█████████▊| 312/316 [11:21<00:08,  2.17s/it]"
     ]
    },
    {
     "name": "stdout",
     "output_type": "stream",
     "text": [
      "d_listの大きさ: 12590\n",
      "https://suumo.jp/chintai/tokyo/sc_ota/mansion/?page=313\n"
     ]
    },
    {
     "name": "stderr",
     "output_type": "stream",
     "text": [
      " 99%|█████████▉| 313/316 [11:23<00:06,  2.30s/it]"
     ]
    },
    {
     "name": "stdout",
     "output_type": "stream",
     "text": [
      "d_listの大きさ: 12612\n",
      "https://suumo.jp/chintai/tokyo/sc_ota/mansion/?page=314\n"
     ]
    },
    {
     "name": "stderr",
     "output_type": "stream",
     "text": [
      " 99%|█████████▉| 314/316 [11:25<00:04,  2.23s/it]"
     ]
    },
    {
     "name": "stdout",
     "output_type": "stream",
     "text": [
      "d_listの大きさ: 12633\n",
      "https://suumo.jp/chintai/tokyo/sc_ota/mansion/?page=315\n"
     ]
    },
    {
     "name": "stderr",
     "output_type": "stream",
     "text": [
      "100%|█████████▉| 315/316 [11:28<00:02,  2.18s/it]"
     ]
    },
    {
     "name": "stdout",
     "output_type": "stream",
     "text": [
      "d_listの大きさ: 12663\n",
      "https://suumo.jp/chintai/tokyo/sc_ota/mansion/?page=316\n"
     ]
    },
    {
     "name": "stderr",
     "output_type": "stream",
     "text": [
      "100%|██████████| 316/316 [11:30<00:00,  2.18s/it]\n"
     ]
    }
   ],
   "source": [
    "#ライブラリーのインポート\n",
    "from bs4 import BeautifulSoup\n",
    "import re\n",
    "import requests\n",
    "from time import sleep\n",
    "from tqdm import tqdm\n",
    "import pandas as pd\n",
    "\n",
    "\n",
    "#変数urlにSUUMOホームページのURLを格納する\n",
    "url = 'https://suumo.jp/chintai/tokyo/sc_ota/mansion/?page={}'\n",
    "#'Requests'を使って1で設定したURLにアクセスする\n",
    "res = requests.get(url.format(1))\n",
    "#取得したHTMLを'BeautifulSoup'で解析する\n",
    "soup_total_page = BeautifulSoup(res.text, 'html.parser')\n",
    "#最後のPage数を取得する\n",
    "last_page = int(soup_total_page.find('ol', class_='pagination-parts').find_all('li')[-1].text)\n",
    "\n",
    "#変数d_listにからのリストを作成する\n",
    "d_list = []\n",
    "\n",
    "#1〜3をループする\n",
    "for i in tqdm(range(1, last_page+1)):\n",
    "    \n",
    "    print('d_listの大きさ:', len(d_list))\n",
    "    \n",
    "    #変数target_urlに、アクセスさくのURLを格納する\n",
    "    target_url = url.format(i)\n",
    "    #print()してtarget_urlを確認する\n",
    "    print(target_url)\n",
    "    \n",
    "    #2. 'Requests'を使って1で設定したURLにアクセスする\n",
    "    r = requests.get(target_url)\n",
    "    \n",
    "    #requestsの間隔を1秒あける\n",
    "    sleep(1)\n",
    "\n",
    "    #3. 取得したHTMLを'BeautifulSoup'で解析する\n",
    "    soup = BeautifulSoup(r.text, 'html.parser')\n",
    "\n",
    "    #4. 全ての物件情報(20件)を取得する。\n",
    "    contents = soup.find_all('div', class_='cassetteitem')\n",
    "    \n",
    "    #5. 各物件情報から『物件の詳細』と『各部屋の情報』\n",
    "    #各物件情報をforループで取得する。\n",
    "    for content in contents:\n",
    "        #6. 物件情報と部屋情報を取得しておく\n",
    "        #物件情報を変数detailに格納する\n",
    "        #各部屋の情報を変数tableに格納する\n",
    "        detail = content.find('div', class_='cassetteitem-detail')\n",
    "        table = content.find('table', class_='cassetteitem_other')\n",
    "    \n",
    "        #物件情報から必要な情報を取得する。\n",
    "        #変数titleに物件名を格納する\n",
    "        #変数addressに住所を格納する\n",
    "        #変数accessにアクセス情報を格納する\n",
    "        #変数age_building_floorsに築年数と建物の階数を格納する\n",
    "        title = detail.find('div', class_='cassetteitem_content-title').text\n",
    "        address = detail.find('li', class_='cassetteitem_detail-col1').text\n",
    "        access = detail.find('li', class_='cassetteitem_detail-col2')\n",
    "        age_building_floors = detail.find('li', class_='cassetteitem_detail-col3')\n",
    "        \n",
    "        #accessについて詳細に情報を取得していく\n",
    "        #access要素内のすべてのdivタグを取得\n",
    "        access_divs = access.find_all('div')\n",
    "        \n",
    "        \n",
    "        # 路線名と駅名を取得する正規表現パターン\n",
    "        station_pattern = r'(.+?/.*?駅)'\n",
    "        # 数字のみを抽出する正規表現パターン\n",
    "        pattern = r'\\d+'\n",
    "\n",
    "        # 各最寄駅の情報を格納するためのリスト\n",
    "        stations = []\n",
    "        times = []\n",
    "\n",
    "        # access要素内のすべてのdivタグを取得し、ループ処理\n",
    "        for access_div in access.find_all('div')[:3]:  # 最初の3つのdivタグのみを対象\n",
    "            access_text = access_div.text\n",
    "\n",
    "            # 駅名を抽出\n",
    "            station_match = re.search(station_pattern, access_text)\n",
    "            if station_match:\n",
    "                station = station_match.group(1) + '駅'\n",
    "            else:\n",
    "                station = None\n",
    "\n",
    "            # 最寄駅からの時間を抽出\n",
    "            time_match = re.search(pattern, access_text)\n",
    "            if time_match:\n",
    "                time = int(time_match.group())\n",
    "            else:\n",
    "                time = 0\n",
    "\n",
    "            # 結果をリストに追加\n",
    "            stations.append(station)\n",
    "            times.append(time)\n",
    "\n",
    "        # 最寄駅名と時間の情報を変数に展開\n",
    "        access_1_station, access_2_station, access_3_station = stations\n",
    "        access_1_time, access_2_time, access_3_time = times\n",
    "         \n",
    "        #age_building_floors要素内のすべてのdivタグを取得\n",
    "        age_building_floors_divs = age_building_floors.find_all('div')\n",
    "\n",
    "        # 築年数age_textと建物の階数building_floors_textのテキストを取得\n",
    "        age_text = age_building_floors_divs[0].text \n",
    "        building_floors_text = age_building_floors_divs[1].text \n",
    "        \n",
    "        #数字のみを抽出する正規表現パターン\n",
    "        pattern = r'\\d+'\n",
    "        #築年数から数字を抽出\n",
    "        age = re.search(pattern, age_text)\n",
    "        if age:\n",
    "            age = age.group()\n",
    "        #建物の階数から数字を抽出\n",
    "        building_floors = re.search(pattern, building_floors_text)\n",
    "        if building_floors:\n",
    "            building_floors = building_floors.group()\n",
    "    \n",
    "        #部屋情報のブロックから各部屋情報を取得する\n",
    "        #変数tableから全てのtrタグを取得して、変数tr_tagsに格納\n",
    "        #tr_tagsの中から最初の1つだけtr_tagに格納\n",
    "        tr_tags = table.find_all('tr', class_='js-cassette_link')\n",
    "        tr_tag = tr_tags[0]\n",
    "    \n",
    "        #各部屋情報をforループで取得する\n",
    "        for tr_tag in tr_tags:\n",
    "        \n",
    "            #部屋情報の行から、欲しい情報を取得する\n",
    "            #変数floor, price, first_fee, capacityに4つの情報を格納する\n",
    "            floor_number, price, first_fee, capacity = tr_tag.find_all(\"td\")[2:6]\n",
    "            #さらに細かい情報を取得する\n",
    "            #priceは賃料(fee)と管理費(management_fee)\n",
    "            #first_feeは敷金(deposit)と礼金(qratuity)\n",
    "            #capacityは間取り(madori)と専有面積(menseki)\n",
    "            rent_price, manegement_fee_price = price.find_all('li')\n",
    "            deposit_price, qratuity_price = first_fee.find_all('li')\n",
    "            madori_capacity, menseki_capacity = capacity.find_all('li')\n",
    "            \n",
    "            #テキストデータを取得する\n",
    "            floor_text = floor_number.text\n",
    "            rent_text = rent_price.text\n",
    "            manegement_fee_text = manegement_fee_price.text\n",
    "            deposit_text = deposit_price.text\n",
    "            qratuity_text = qratuity_price.text\n",
    "            madori = madori_capacity.text\n",
    "            menseki_text = menseki_capacity.text\n",
    "            \n",
    "            #数字のみを抽出する正規表現パターン\n",
    "            pattern = r'\\d+'\n",
    "            \n",
    "            # 小数を含む数値にマッチする正規表現パターン\n",
    "            pattern2 = r'\\d+(\\.\\d+)?'\n",
    "            \n",
    "            #階数floor_textから数字を抽出\n",
    "            #int型にして、階数floorに格納する。\n",
    "            floor = re.search(pattern, floor_text)\n",
    "            if floor:\n",
    "                floor = int(floor.group())\n",
    "            \n",
    "            #管理費manegement_fee_textから数字を抽出\n",
    "            #int型にして、管理費manegement_fee_textに格納する。\n",
    "            manegement_fee = re.search(pattern, manegement_fee_text)\n",
    "            if manegement_fee:\n",
    "                manegement_fee = int(manegement_fee.group())\n",
    "            else:\n",
    "                manegement_fee = 0  # 管理費が取得できない場合は0円とする\n",
    "\n",
    "            \n",
    "            \n",
    "            #面積mensekiから数字を抽出\n",
    "            #float型にして、面積mensekiに格納する。\n",
    "            menseki = re.search(pattern2, menseki_text)\n",
    "            if menseki:\n",
    "                menseki = float(menseki.group())\n",
    "        \n",
    "            #数字（整数または小数）を抽出する正規表現パターン\n",
    "            pattern3 = r'(\\d+(\\.\\d+)?)万'\n",
    "            \n",
    "            # 金額を円単位に変換する関数\n",
    "            def convert_to_yen(text):\n",
    "                # '万'単位の金額を探す\n",
    "                match = re.search(pattern3, text)\n",
    "                if match:\n",
    "                    # 数字部分を取得し、float型に変換してから10000を乗算\n",
    "                    number = float(match.group(1))\n",
    "                    return int(number * 10000)\n",
    "                else:\n",
    "                    #'万'がない場合は通常の数字を探す\n",
    "                    match = re.search(r'\\d+', text)\n",
    "                    if match:\n",
    "                        return int(match.group())\n",
    "                    else:\n",
    "                        # 数字が見つからない場合は0や適切なデフォルト値を返す\n",
    "                        return 0                \n",
    "            # 各テキストから金額を円単位で抽出\n",
    "            rent = convert_to_yen(rent_text)\n",
    "            deposit = convert_to_yen(deposit_text)\n",
    "            qratuity = convert_to_yen(qratuity_text)\n",
    "\n",
    "        \n",
    "            #取得した全ての情報を辞書に格納する\n",
    "            #変数dにこれまで取得した11項目を辞書に格納する\n",
    "            d = {\n",
    "            \"物件名\": title, \n",
    "            \"住所\": address,\n",
    "            \"アクセス\": access,\n",
    "            \"最寄駅1\": access_1_station,\n",
    "            \"最寄駅1からの時間(分)\": access_1_time,\n",
    "            \"最寄駅2\": access_2_station,\n",
    "            \"最寄駅2からの時間(分)\": access_2_time,\n",
    "            \"最寄駅3\": access_3_station,\n",
    "            \"最寄駅3からの時間(分)\": access_3_time,\n",
    "            \"築年数(年)\": age,\n",
    "            \"建物の階数\": building_floors,\n",
    "            \"階数\": floor,\n",
    "            \"家賃(円)\": rent,\n",
    "            \"管理費(円)\": manegement_fee,\n",
    "            \"敷金(円)\": deposit,\n",
    "            \"礼金(円)\": qratuity,\n",
    "            \"間取り\": madori,\n",
    "            \"面積(m2)\": menseki,\n",
    "            }\n",
    "        \n",
    "            #取得した辞書をd_listに格納する\n",
    "            d_list.append(d)\n",
    "            \n",
    "#変数d_listを使って、データフレームを作成する\n",
    "df = pd.DataFrame(d_list)\n",
    "\n",
    "# この関数はDataFrameの各セルをクリーニングするために使用されます\n",
    "def clean_text(cell):\n",
    "    # セルがNoneの場合、変更せずにそのまま返します\n",
    "    if cell is None:\n",
    "        return cell\n",
    "\n",
    "    # セルが文字列型の場合、改行、キャリッジリターン、タブをスペースに置換して返します\n",
    "    if isinstance(cell, str):\n",
    "        return re.sub('[\\n\\r\\t]', ' ', cell)\n",
    "\n",
    "    # セルがBeautifulSoupのTagオブジェクトの場合（HTMLタグ）、\n",
    "    # そのテキスト内容を取得し、同様に置換して返します\n",
    "    elif hasattr(cell, 'text'):\n",
    "        return re.sub('[\\n\\r\\t]', ' ', cell.text)\n",
    "\n",
    "    # 上記の条件に当てはまらない場合、セルをそのまま返します\n",
    "    else:\n",
    "        return cell\n",
    "\n",
    "# DataFrameの各セルに対してclean_text関数を適用します\n",
    "df2 = df.applymap(clean_text)\n",
    "\n",
    "#住所、家賃、階が一致した物件を重複物件とみなし、重複した行を特定する条件を指定\n",
    "duplicate_condition = df2.duplicated(subset=['住所', '家賃(円)', '階数', '間取り', '面積(m2)'], keep=False)\n",
    "\n",
    "# 重複した行を抽出\n",
    "duplicates = df2[duplicate_condition]\n",
    "\n",
    "# 重複した行を削除\n",
    "df3 = df2.drop_duplicates(subset=['住所', '家賃(円)', '階数',  '間取り', '面積(m2)'], keep='first')\n",
    "\n",
    "#df3をcsvに出力\n",
    "df3.to_csv('SUUMO_Otaku2.csv', index=False, encoding='utf-8-sig')"
   ]
  },
  {
   "cell_type": "code",
   "execution_count": 3,
   "metadata": {},
   "outputs": [
    {
     "name": "stderr",
     "output_type": "stream",
     "text": [
      "/var/folders/3x/2wmnmhys6_n8bjxz4xywkhb40000gn/T/ipykernel_69406/2535239105.py:28: DeprecationWarning: [Deprecated][in version 6.0.0]: Method signature's arguments 'range_name' and 'values' will change their order. We recommend using named arguments for minimal impact. In addition, the argument 'values' will be mandatory of type: 'List[List]'. (ex) Worksheet.update(values = [[]], range_name=) \n",
      "  worksheet.update([df3.columns.values.tolist()] + df3.values.tolist())\n"
     ]
    },
    {
     "data": {
      "text/plain": [
       "{'spreadsheetId': '1bDCqElveejgA3h2keb2wAGEqQ8eSsJexOAxAsh_hGeE',\n",
       " 'updatedRange': \"'シート1'!A1:R8165\",\n",
       " 'updatedRows': 8165,\n",
       " 'updatedColumns': 18,\n",
       " 'updatedCells': 145042}"
      ]
     },
     "execution_count": 3,
     "metadata": {},
     "output_type": "execute_result"
    }
   ],
   "source": [
    "#Google spredsheets関連のライブラリーをインポート\n",
    "import gspread\n",
    "from oauth2client.service_account import ServiceAccountCredentials\n",
    "#環境変数関連\n",
    "from dotenv import load_dotenv\n",
    "load_dotenv()\n",
    "import os\n",
    "\n",
    "\n",
    "#スコープとjsonファイルを使って認証情報を取得\n",
    "SCOPES = ['https://www.googleapis.com/auth/spreadsheets', 'https://www.googleapis.com/auth/drive']\n",
    "SERVICE_ACCOUNT_FILE = os.getenv('SERVICE_ACCOUNT_FILE')\n",
    "credentials = ServiceAccountCredentials.from_json_keyfile_name(SERVICE_ACCOUNT_FILE, SCOPES)\n",
    "#認証情報をauthorize関数に渡してスプレッドシートの操作権を取得\n",
    "gs = gspread.authorize(credentials)\n",
    "\n",
    "#シート情報を取得して変数に代入\n",
    "SPREADSHEET_KEY = os.getenv('SPREADSHEET_KEY')\n",
    "workbook = gs.open_by_key(SPREADSHEET_KEY)\n",
    "\n",
    "# スプレッドシートを開く（新規作成または既存のものを開く）\n",
    "spreadsheet = gs.open('Step3-1②-1')\n",
    "\n",
    "# ワークシートを取得（新規作成または既存のものを開く）\n",
    "worksheet = spreadsheet.get_worksheet(0) # 0は最初のワークシートを指します\n",
    "\n",
    "# データフレームをGoogleスプレッドシートに転送\n",
    "worksheet.update([df3.columns.values.tolist()] + df3.values.tolist())"
   ]
  },
  {
   "cell_type": "code",
   "execution_count": 4,
   "metadata": {},
   "outputs": [],
   "source": [
    "import sqlite3\n",
    "\n",
    "# SQLiteデータベースファイルを作成（または既存のものに接続）\n",
    "conn = sqlite3.connect('SUUMO_Otaku_database.db')\n",
    "\n",
    "# このデータフレームを'20231212_SUUMO_Otaku'という名前のテーブルに転送\n",
    "# 存在しない場合は新規作成、存在する場合は置き換える\n",
    "df3.to_sql('20231212_SUUMO_Otaku', conn, if_exists='replace', index=False)\n",
    "\n",
    "# データベースの接続を閉じる\n",
    "conn.close()"
   ]
  },
  {
   "cell_type": "code",
   "execution_count": null,
   "metadata": {},
   "outputs": [],
   "source": []
  }
 ],
 "metadata": {
  "kernelspec": {
   "display_name": "Python 3",
   "language": "python",
   "name": "python3"
  },
  "language_info": {
   "codemirror_mode": {
    "name": "ipython",
    "version": 3
   },
   "file_extension": ".py",
   "mimetype": "text/x-python",
   "name": "python",
   "nbconvert_exporter": "python",
   "pygments_lexer": "ipython3",
   "version": "3.11.3"
  },
  "orig_nbformat": 4
 },
 "nbformat": 4,
 "nbformat_minor": 2
}
